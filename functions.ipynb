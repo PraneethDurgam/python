{
 "cells": [
  {
   "cell_type": "code",
   "execution_count": 1,
   "metadata": {},
   "outputs": [
    {
     "name": "stdout",
     "output_type": "stream",
     "text": [
      "king\n",
      "cool\n",
      "god\n",
      "hitman\n",
      "wall\n"
     ]
    }
   ],
   "source": [
    "def vk():\n",
    "    print('king')\n",
    "def msd():\n",
    "    print('cool')\n",
    "def st():\n",
    "    print('god')\n",
    "def rd():\n",
    "    print('wall')\n",
    "def rs():\n",
    "    print('hitman')\n",
    "vk()\n",
    "msd()\n",
    "st()\n",
    "rs()\n",
    "rd()"
   ]
  },
  {
   "cell_type": "code",
   "execution_count": 10,
   "metadata": {},
   "outputs": [
    {
     "name": "stdout",
     "output_type": "stream",
     "text": [
      "Not Prime\n"
     ]
    }
   ],
   "source": [
    "prime()"
   ]
  },
  {
   "cell_type": "code",
   "execution_count": 21,
   "metadata": {},
   "outputs": [
    {
     "name": "stdout",
     "output_type": "stream",
     "text": [
      "1\n",
      "2\n",
      "3\n",
      "4\n",
      "6\n",
      "7\n",
      "12\n",
      "14\n",
      "21\n",
      "28\n",
      "42\n",
      "not\n"
     ]
    }
   ],
   "source": [
    "def prime():\n",
    "    a=int(input())\n",
    "    c=0\n",
    "    for i in range(1,a):\n",
    "        if a%i==0:\n",
    "            c+=1\n",
    "            print(i)\n",
    "    if c>2:\n",
    "        print('not')\n",
    "    else:\n",
    "        print(\"Prime\")\n",
    "prime()"
   ]
  }
 ],
 "metadata": {
  "kernelspec": {
   "display_name": "Python 3",
   "language": "python",
   "name": "python3"
  },
  "language_info": {
   "codemirror_mode": {
    "name": "ipython",
    "version": 3
   },
   "file_extension": ".py",
   "mimetype": "text/x-python",
   "name": "python",
   "nbconvert_exporter": "python",
   "pygments_lexer": "ipython3",
   "version": "3.12.2"
  }
 },
 "nbformat": 4,
 "nbformat_minor": 2
}
