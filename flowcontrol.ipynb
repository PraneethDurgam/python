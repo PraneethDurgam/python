{
 "cells": [
  {
   "cell_type": "code",
   "execution_count": 1,
   "metadata": {},
   "outputs": [
    {
     "name": "stdout",
     "output_type": "stream",
     "text": [
      "hello\n",
      "hi\n",
      "bye\n",
      "tata katham\n",
      "good bye\n",
      "program end\n"
     ]
    }
   ],
   "source": [
    "a=15\n",
    "if a>10:\n",
    "    print('hello')\n",
    "    print('hi')\n",
    "    print('bye')\n",
    "    print('tata katham')\n",
    "    print('good bye')\n",
    "print('program end')"
   ]
  },
  {
   "cell_type": "code",
   "execution_count": 6,
   "metadata": {},
   "outputs": [
    {
     "name": "stdout",
     "output_type": "stream",
     "text": [
      "15\n",
      "divisible by 3\n",
      "program end\n"
     ]
    }
   ],
   "source": [
    "a=int(input())\n",
    "if a%3==0:\n",
    "    print(a)\n",
    "    print('divisible by 3')\n",
    "print('program end')\n",
    "    "
   ]
  },
  {
   "cell_type": "code",
   "execution_count": 11,
   "metadata": {},
   "outputs": [
    {
     "name": "stdout",
     "output_type": "stream",
     "text": [
      "divisible by both 3 and 5\n",
      "12 10\n",
      "program end\n"
     ]
    }
   ],
   "source": [
    "a=int(input())\n",
    "if (a%3==0 and a%5==0):\n",
    "    print('divisible by both 3 and 5')\n",
    "    print(a-3,a-5)\n",
    "print('program end')"
   ]
  },
  {
   "cell_type": "markdown",
   "metadata": {},
   "source": [
    "ASSIGNMENT ON FLOW CONTROL STATEMENTS\n",
    "-----------------------------------------"
   ]
  },
  {
   "cell_type": "code",
   "execution_count": 12,
   "metadata": {},
   "outputs": [
    {
     "name": "stdout",
     "output_type": "stream",
     "text": [
      "hello good morning\n"
     ]
    }
   ],
   "source": [
    "a=50\n",
    "if a>2:\n",
    "    print('hello good morning')"
   ]
  },
  {
   "cell_type": "code",
   "execution_count": 22,
   "metadata": {},
   "outputs": [
    {
     "name": "stdout",
     "output_type": "stream",
     "text": [
      "60\n",
      "20\n",
      "800\n",
      "0\n",
      "2.0\n",
      "2\n",
      "109951162777600000000000000000000\n",
      "end\n"
     ]
    }
   ],
   "source": [
    "a=int(input())\n",
    "if a>=30 and a<=40:\n",
    "    print(a+20)\n",
    "    print(a-20)\n",
    "    print(a*20)\n",
    "    print(a%20)\n",
    "    print(a/20)\n",
    "    print(a//20)\n",
    "    print(a**20)\n",
    "print('end')"
   ]
  },
  {
   "cell_type": "code",
   "execution_count": 24,
   "metadata": {},
   "outputs": [
    {
     "name": "stdout",
     "output_type": "stream",
     "text": [
      "35\n"
     ]
    }
   ],
   "source": [
    "a=int(input())\n",
    "if a%3==0:\n",
    "    a+=20\n",
    "    print(a)"
   ]
  },
  {
   "cell_type": "code",
   "execution_count": 27,
   "metadata": {},
   "outputs": [
    {
     "name": "stdout",
     "output_type": "stream",
     "text": [
      "44\n"
     ]
    }
   ],
   "source": [
    "a=int(input())\n",
    "if a%2==0 and a>20:\n",
    "    print(a*2)\n",
    "else:\n",
    "    print(a)\n",
    "    "
   ]
  },
  {
   "cell_type": "code",
   "execution_count": 35,
   "metadata": {},
   "outputs": [
    {
     "name": "stdout",
     "output_type": "stream",
     "text": [
      "103\n"
     ]
    }
   ],
   "source": [
    "a=str(input())\n",
    "if (a>='A' and a<='Z') or (a>='a' and a<=\"z\"):\n",
    "    print(ord(a))"
   ]
  },
  {
   "cell_type": "code",
   "execution_count": 1,
   "metadata": {},
   "outputs": [
    {
     "name": "stdout",
     "output_type": "stream",
     "text": [
      "P\n"
     ]
    }
   ],
   "source": [
    "a='p'\n",
    "if a>='a' and a<='z':\n",
    "    b=(ord(a)-32)\n",
    "    print(chr(b))"
   ]
  },
  {
   "cell_type": "code",
   "execution_count": 4,
   "metadata": {},
   "outputs": [
    {
     "name": "stdout",
     "output_type": "stream",
     "text": [
      "7\n"
     ]
    }
   ],
   "source": [
    "a='9'\n",
    "if a>='0' and a<='9':\n",
    "    print(ord(a)%10)\n"
   ]
  },
  {
   "cell_type": "code",
   "execution_count": 7,
   "metadata": {},
   "outputs": [
    {
     "name": "stdout",
     "output_type": "stream",
     "text": [
      "eligible\n"
     ]
    }
   ],
   "source": [
    "a=20\n",
    "b=25\n",
    "if a>=18 and b>=18:\n",
    "    print('eligible')"
   ]
  },
  {
   "cell_type": "code",
   "execution_count": 9,
   "metadata": {},
   "outputs": [
    {
     "name": "stdout",
     "output_type": "stream",
     "text": [
      "eliglibe\n"
     ]
    }
   ],
   "source": [
    "a=21\n",
    "b=24\n",
    "if a>=21 and b>=21:\n",
    "    print('eliglibe')\n"
   ]
  }
 ],
 "metadata": {
  "kernelspec": {
   "display_name": "Python 3",
   "language": "python",
   "name": "python3"
  },
  "language_info": {
   "codemirror_mode": {
    "name": "ipython",
    "version": 3
   },
   "file_extension": ".py",
   "mimetype": "text/x-python",
   "name": "python",
   "nbconvert_exporter": "python",
   "pygments_lexer": "ipython3",
   "version": "3.12.2"
  }
 },
 "nbformat": 4,
 "nbformat_minor": 2
}
