{
 "cells": [
  {
   "cell_type": "code",
   "execution_count": 11,
   "metadata": {},
   "outputs": [
    {
     "name": "stdout",
     "output_type": "stream",
     "text": [
      "not in between\n",
      "zkzkzkz\n"
     ]
    }
   ],
   "source": [
    "st=input()\n",
    "s1=ord(st[0])\n",
    "s2=ord(st[-1])\n",
    "s3=ord(st[-2])\n",
    "if s1==s2:\n",
    "    if s3>=90 and s3<=100:\n",
    "        print('in between')\n",
    "    else:\n",
    "        print('not in between')\n",
    "print(st)"
   ]
  },
  {
   "cell_type": "code",
   "execution_count": 13,
   "metadata": {},
   "outputs": [
    {
     "name": "stdout",
     "output_type": "stream",
     "text": [
      "odd\n"
     ]
    }
   ],
   "source": [
    "st=input()\n",
    "s1=len(st)\n",
    "s2=str(s1)\n",
    "s3=ord(s2)\n",
    "if s3%2==0:\n",
    "    print('even')\n",
    "else:\n",
    "    print('odd')"
   ]
  },
  {
   "cell_type": "code",
   "execution_count": 18,
   "metadata": {},
   "outputs": [
    {
     "name": "stdout",
     "output_type": "stream",
     "text": [
      "same\n"
     ]
    }
   ],
   "source": [
    "st=input()\n",
    "mid=len(st)//2\n",
    "s1=st[mid]\n",
    "s2=ord(s1)\n",
    "l=len(st)\n",
    "l1=str(l)\n",
    "l2=ord(l1)\n",
    "if s2==l2:\n",
    "    print('same')\n",
    "else:\n",
    "    print('not same')"
   ]
  }
 ],
 "metadata": {
  "kernelspec": {
   "display_name": "Python 3",
   "language": "python",
   "name": "python3"
  },
  "language_info": {
   "codemirror_mode": {
    "name": "ipython",
    "version": 3
   },
   "file_extension": ".py",
   "mimetype": "text/x-python",
   "name": "python",
   "nbconvert_exporter": "python",
   "pygments_lexer": "ipython3",
   "version": "3.12.2"
  }
 },
 "nbformat": 4,
 "nbformat_minor": 2
}
