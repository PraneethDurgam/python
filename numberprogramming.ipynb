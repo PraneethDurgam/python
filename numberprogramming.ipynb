{
 "cells": [
  {
   "cell_type": "code",
   "execution_count": 1,
   "metadata": {},
   "outputs": [
    {
     "name": "stdout",
     "output_type": "stream",
     "text": [
      "0\n",
      "5\n",
      "1\n"
     ]
    }
   ],
   "source": [
    "n=150\n",
    "while n>0:\n",
    "    print(n%10)\n",
    "    n//=10"
   ]
  },
  {
   "cell_type": "code",
   "execution_count": 2,
   "metadata": {},
   "outputs": [
    {
     "name": "stdout",
     "output_type": "stream",
     "text": [
      "11\n"
     ]
    }
   ],
   "source": [
    "n=191\n",
    "s=0\n",
    "while n>0:\n",
    "    a=n%10\n",
    "    s+=a\n",
    "    n//=10\n",
    "print(s)"
   ]
  },
  {
   "cell_type": "code",
   "execution_count": 7,
   "metadata": {},
   "outputs": [
    {
     "name": "stdout",
     "output_type": "stream",
     "text": [
      "320\n"
     ]
    }
   ],
   "source": [
    "n=int(input())\n",
    "p=1\n",
    "while n>0:\n",
    "    a=n%10\n",
    "    p*=a\n",
    "    n//=10\n",
    "print(p)"
   ]
  },
  {
   "cell_type": "code",
   "execution_count": 14,
   "metadata": {},
   "outputs": [
    {
     "name": "stdout",
     "output_type": "stream",
     "text": [
      "6\n",
      "6\n",
      "spy number\n"
     ]
    }
   ],
   "source": [
    "a=123\n",
    "s=0\n",
    "p=1\n",
    "while a>0:\n",
    "    b=a%10\n",
    "    s=s+b\n",
    "    p=p*b\n",
    "    a=a//10\n",
    "print(s)\n",
    "print(p)\n",
    "if s==p:\n",
    "    print('spy number')\n",
    "else:\n",
    "    print('not spy')"
   ]
  },
  {
   "cell_type": "code",
   "execution_count": 16,
   "metadata": {},
   "outputs": [
    {
     "name": "stdout",
     "output_type": "stream",
     "text": [
      "8\n",
      "6\n",
      "4\n",
      "2\n"
     ]
    }
   ],
   "source": [
    "a=int(input())\n",
    "while a>0:\n",
    "    b=a%10\n",
    "    if b%2==0:\n",
    "        print(b)\n",
    "    a//=10"
   ]
  },
  {
   "cell_type": "code",
   "execution_count": 18,
   "metadata": {},
   "outputs": [
    {
     "name": "stdout",
     "output_type": "stream",
     "text": [
      "9\n"
     ]
    }
   ],
   "source": [
    "a=int(input())\n",
    "c=0\n",
    "while a>0:\n",
    "    b=a%10\n",
    "    c+=1\n",
    "    a//=10\n",
    "print(c)"
   ]
  },
  {
   "cell_type": "code",
   "execution_count": 19,
   "metadata": {},
   "outputs": [
    {
     "name": "stdout",
     "output_type": "stream",
     "text": [
      "28\n"
     ]
    }
   ],
   "source": [
    "a=int(input())\n",
    "sum=0\n",
    "while a>0:\n",
    "    b=a%10\n",
    "    if b%2==0:\n",
    "        sum+=b\n",
    "    a//=10\n",
    "print(sum)"
   ]
  },
  {
   "cell_type": "code",
   "execution_count": 21,
   "metadata": {},
   "outputs": [
    {
     "name": "stdout",
     "output_type": "stream",
     "text": [
      "harshad\n"
     ]
    }
   ],
   "source": [
    "a=int(input())\n",
    "n=a\n",
    "s=0\n",
    "while a>0:\n",
    "    b=a%10\n",
    "    s+=b\n",
    "    a//=10\n",
    "if n%s==0:\n",
    "    print('harshad')\n",
    "else:\n",
    "    print('not')"
   ]
  }
 ],
 "metadata": {
  "kernelspec": {
   "display_name": "Python 3",
   "language": "python",
   "name": "python3"
  },
  "language_info": {
   "codemirror_mode": {
    "name": "ipython",
    "version": 3
   },
   "file_extension": ".py",
   "mimetype": "text/x-python",
   "name": "python",
   "nbconvert_exporter": "python",
   "pygments_lexer": "ipython3",
   "version": "3.12.2"
  }
 },
 "nbformat": 4,
 "nbformat_minor": 2
}
