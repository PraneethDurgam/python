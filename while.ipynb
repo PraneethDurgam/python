{
 "cells": [
  {
   "cell_type": "code",
   "execution_count": 10,
   "metadata": {},
   "outputs": [
    {
     "name": "stdout",
     "output_type": "stream",
     "text": [
      "1\n",
      "2\n",
      "3\n",
      "4\n",
      "6\n",
      "12\n",
      "83\n",
      "166\n",
      "249\n",
      "332\n",
      "498\n",
      "996\n"
     ]
    }
   ],
   "source": [
    "a=int(input())\n",
    "b=1\n",
    "while b<=1000:\n",
    "    if a%b==0:\n",
    "        print(b)\n",
    "    b+=1\n"
   ]
  },
  {
   "cell_type": "code",
   "execution_count": 1,
   "metadata": {},
   "outputs": [
    {
     "name": "stdout",
     "output_type": "stream",
     "text": [
      "8\n",
      "4\n"
     ]
    }
   ],
   "source": [
    "#count divisior of given num from 1 to itself\n",
    "c=0\n",
    "n=int(input())\n",
    "print(n)\n",
    "a=1\n",
    "while a<=n:\n",
    "    if n%a==0:\n",
    "        c+=1\n",
    "    a+=1\n",
    "print(c)"
   ]
  },
  {
   "cell_type": "code",
   "execution_count": 4,
   "metadata": {},
   "outputs": [
    {
     "name": "stdout",
     "output_type": "stream",
     "text": [
      "5\n",
      "6\n"
     ]
    }
   ],
   "source": [
    "#sum of divisiors from 1 to itself\n",
    "a=1\n",
    "b=int(input())\n",
    "print(b)\n",
    "c=0\n",
    "while a<=b:\n",
    "    if b%a==0:\n",
    "        c=c+a\n",
    "    a+=1\n",
    "print(c)\n"
   ]
  },
  {
   "cell_type": "code",
   "execution_count": 31,
   "metadata": {},
   "outputs": [
    {
     "name": "stdout",
     "output_type": "stream",
     "text": [
      "Sum is odd\n",
      "15\n"
     ]
    }
   ],
   "source": [
    "#sum is even or odd for 1-5\n",
    "a=1\n",
    "c=0\n",
    "while a<=5:\n",
    "    c=c+a\n",
    "    a+=1\n",
    "if (c%2)==0:\n",
    "    print(\"Sum is even\")\n",
    "else:\n",
    "    print(\"Sum is odd\")\n",
    "print(c)"
   ]
  },
  {
   "cell_type": "code",
   "execution_count": 29,
   "metadata": {},
   "outputs": [
    {
     "name": "stdout",
     "output_type": "stream",
     "text": [
      "divisible by 3\n",
      "24\n"
     ]
    }
   ],
   "source": [
    "#factorial of 4 is divisible by 3 or not\n",
    "a=1\n",
    "c=1\n",
    "b=4\n",
    "while a<=b:\n",
    "    c=c*b\n",
    "    b-=1\n",
    "if (c%3==0):\n",
    "    print('divisible by 3')\n",
    "else:\n",
    "    print('not')\n",
    "print(c)"
   ]
  }
 ],
 "metadata": {
  "kernelspec": {
   "display_name": "Python 3",
   "language": "python",
   "name": "python3"
  },
  "language_info": {
   "codemirror_mode": {
    "name": "ipython",
    "version": 3
   },
   "file_extension": ".py",
   "mimetype": "text/x-python",
   "name": "python",
   "nbconvert_exporter": "python",
   "pygments_lexer": "ipython3",
   "version": "3.12.2"
  }
 },
 "nbformat": 4,
 "nbformat_minor": 2
}
