{
 "cells": [
  {
   "cell_type": "code",
   "execution_count": 30,
   "metadata": {},
   "outputs": [
    {
     "name": "stdout",
     "output_type": "stream",
     "text": [
      "raja\n",
      "21\n",
      "king\n",
      "21\n"
     ]
    }
   ],
   "source": [
    "class Student:\n",
    "    def __init__(self,name,age):\n",
    "        self.name=name\n",
    "        self.age=age\n",
    "    def dispaly(self):\n",
    "        print(self.name)\n",
    "        print(self.age)\n",
    "    def changename(self,newname):\n",
    "        self.name=newname\n",
    "    def changeage(self,newage):\n",
    "        self.age=newage\n",
    "    def deleteage(self):\n",
    "        del self.age\n",
    "    def deletename(self):\n",
    "        del self.name\n",
    "s1=Student('raja',21)\n",
    "s1.dispaly()\n",
    "s1.changename('king')\n",
    "s1.dispaly()\n"
   ]
  },
  {
   "cell_type": "code",
   "execution_count": 2,
   "metadata": {},
   "outputs": [
    {
     "name": "stdout",
     "output_type": "stream",
     "text": [
      "red\n",
      "TATA\n",
      "100\n",
      "BS4\n",
      "yellow\n",
      "AL\n",
      "150\n",
      "BS6\n"
     ]
    }
   ],
   "source": [
    "#create a class bus\n",
    "#create 4 obj variable\n",
    "#create 2 objs\n",
    "#create methods for crud operations\n",
    "\n",
    "class Bus:\n",
    "    def __init__(self,color,company,capacity,etype):\n",
    "        self.color=color\n",
    "        self.company=company\n",
    "        self.capacity=capacity\n",
    "        self.etype=etype\n",
    "    def dispaly(self):\n",
    "        print(self.color)\n",
    "        print(self.company)\n",
    "        print(self.capacity)\n",
    "        print(self.etype)\n",
    "    def changecolor(self,newcolor):\n",
    "        self.color=newcolor\n",
    "    def changecompany(self,newcompany):\n",
    "        self.company=newcompany\n",
    "    def changecapacity(self,newcapacity):\n",
    "        self.capacity=newcapacity\n",
    "    def deletecolor(self):\n",
    "        del self.color\n",
    "    def deletecompany(self):\n",
    "        del self.company\n",
    "b1=Bus('yellow','AL',150,'BS6')\n",
    "b2=Bus('red','TATA',100,'BS4')\n",
    "b2.dispaly()\n",
    "b1.dispaly()\n",
    "\n",
    "\n",
    "\n",
    "    \n",
    "\n"
   ]
  },
  {
   "cell_type": "code",
   "execution_count": 1,
   "metadata": {},
   "outputs": [
    {
     "name": "stdout",
     "output_type": "stream",
     "text": [
      "{'__module__': '__main__', 'schoolname': None, 'chnageSchoolname': <classmethod(<function Student.chnageSchoolname at 0x000001A87B6FA2A0>)>, '__dict__': <attribute '__dict__' of 'Student' objects>, '__weakref__': <attribute '__weakref__' of 'Student' objects>, '__doc__': None}\n",
      "{'__module__': '__main__', 'schoolname': 'ABC', 'chnageSchoolname': <classmethod(<function Student.chnageSchoolname at 0x000001A87B6FA2A0>)>, '__dict__': <attribute '__dict__' of 'Student' objects>, '__weakref__': <attribute '__weakref__' of 'Student' objects>, '__doc__': None}\n"
     ]
    }
   ],
   "source": [
    "class Student:\n",
    "    schoolname=None\n",
    "    @classmethod\n",
    "    def chnageSchoolname(cls,newname):\n",
    "        cls.schoolname=newname\n",
    "s1=Student()\n",
    "print(Student.__dict__)\n",
    "Student.chnageSchoolname('ABC')\n",
    "print(Student.__dict__)"
   ]
  },
  {
   "cell_type": "code",
   "execution_count": 3,
   "metadata": {},
   "outputs": [
    {
     "name": "stdout",
     "output_type": "stream",
     "text": [
      "csk\n",
      "0\n",
      "rcb\n"
     ]
    }
   ],
   "source": [
    "class IPL:\n",
    "    name='csk'\n",
    "    cups=0\n",
    "    @classmethod\n",
    "    def changename(cls,newname):\n",
    "        cls.name=newname\n",
    "    @classmethod\n",
    "    def changecups(cls,newcups):\n",
    "        cls.cups=newcups\n",
    "t1=IPL()\n",
    "print(t1.name)\n",
    "print(t1.cups)\n",
    "\n",
    "IPL.changename('rcb')\n",
    "print(t1.name)"
   ]
  },
  {
   "cell_type": "code",
   "execution_count": null,
   "metadata": {},
   "outputs": [],
   "source": []
  }
 ],
 "metadata": {
  "kernelspec": {
   "display_name": "Python 3",
   "language": "python",
   "name": "python3"
  },
  "language_info": {
   "codemirror_mode": {
    "name": "ipython",
    "version": 3
   },
   "file_extension": ".py",
   "mimetype": "text/x-python",
   "name": "python",
   "nbconvert_exporter": "python",
   "pygments_lexer": "ipython3",
   "version": "3.12.3"
  }
 },
 "nbformat": 4,
 "nbformat_minor": 2
}
