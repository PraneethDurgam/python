{
 "cells": [
  {
   "cell_type": "code",
   "execution_count": 9,
   "metadata": {},
   "outputs": [
    {
     "name": "stdout",
     "output_type": "stream",
     "text": [
      "name        : praneeth\n",
      "employee id : 001\n",
      "salary      : 50000\n",
      "experince   : 5\n",
      "department  : testing\n",
      "<<<<<<<<<<<<>>>>>>>>>>>>>>>>>>>>\n",
      "name        : banti\n",
      "employee id : 002\n",
      "salary      : 85000\n",
      "projects    : 4\n"
     ]
    }
   ],
   "source": [
    "class Employee:\n",
    "    name=None\n",
    "    employee_id=None\n",
    "    salary=None\n",
    "\n",
    "    def __init__(self,name,employee_id,salary):\n",
    "        self.name=name\n",
    "        self.employee_id=employee_id\n",
    "        self.salary=salary\n",
    "    def displayemployee(self):\n",
    "        print('name        :',self.name)\n",
    "        print('employee id :',self.employee_id)\n",
    "        print('salary      :',self.salary)\n",
    "\n",
    "class Manager(Employee):\n",
    "    experince=None\n",
    "    department=None\n",
    "\n",
    "    def __init__(self, name, employee_id, salary,experince,department):\n",
    "        Employee.__init__(self, name, employee_id, salary)\n",
    "        self.experince=experince\n",
    "        self.department=department\n",
    "    def displaymanager(self):\n",
    "        super().displayemployee()\n",
    "        print('experince   :',self.experince)\n",
    "        print('department  :',self.department)\n",
    "        print('<<<<<<<<<<<<>>>>>>>>>>>>>>>>>>>>')\n",
    "class Developer(Employee):\n",
    "    projects=None\n",
    "    def __init__(self, name, employee_id, salary,projects):\n",
    "        Employee.__init__(self, name, employee_id, salary)\n",
    "        self.projects=projects\n",
    "\n",
    "    def displaydeveloper(self):\n",
    "        super().displayemployee()\n",
    "        print('projects    :',self.projects)\n",
    "\n",
    "e1=Manager('praneeth','001',50000,5,'testing')\n",
    "e1.displaymanager()\n",
    "e2=Developer('banti','002',85000,4)\n",
    "e2.displaydeveloper()\n",
    "\n",
    "       "
   ]
  },
  {
   "cell_type": "code",
   "execution_count": 17,
   "metadata": {},
   "outputs": [
    {
     "name": "stdout",
     "output_type": "stream",
     "text": [
      "species : dog\n",
      "weight : 4\n",
      "age : 2\n",
      "the dog barks\n",
      "*****************************\n",
      "species : parrot\n",
      "weight : 1\n",
      "age : 2\n",
      "the bird chirps\n"
     ]
    }
   ],
   "source": [
    "class Animal:\n",
    "    species:None\n",
    "    weight:None\n",
    "    age=None\n",
    "    \n",
    "    def __init__(self,species,weight,age):\n",
    "        self.species=species\n",
    "        self.weight=weight\n",
    "        self.age=age\n",
    "\n",
    "    def makesound():\n",
    "        pass\n",
    "\n",
    "class Mammal(Animal):\n",
    "    def __init__(self,species,weight,age,color):\n",
    "        super().__init__(species,weight,age)\n",
    "        self.color=color\n",
    "    \n",
    "    def makesound(self):\n",
    "        print('species :',self.species)\n",
    "        print('weight :',self.weight)\n",
    "        print('age :',self.age)\n",
    "        print('the dog barks')\n",
    "        print('*****************************')\n",
    "\n",
    "class Bird(Animal):\n",
    "    def __init__(self,species,weight,age,type):\n",
    "        super().__init__(species,weight,age)\n",
    "        self.type=type\n",
    "\n",
    "    def makesound(self):\n",
    "        print('species :',self.species)\n",
    "        print('weight :',self.weight)\n",
    "        print('age :',self.age)\n",
    "        print('the bird chirps')\n",
    "\n",
    "a1=Mammal('dog',4,2,'black')\n",
    "a2=Bird('parrot',1,2,'parrot')\n",
    "a1.makesound()\n",
    "a2.makesound()"
   ]
  },
  {
   "cell_type": "code",
   "execution_count": 3,
   "metadata": {},
   "outputs": [
    {
     "name": "stdout",
     "output_type": "stream",
     "text": [
      "Type: mustang \n",
      "Year: 1967\n",
      "Model: gt\n",
      "Engine: v6 turbo\n",
      "**************************\n",
      "Type: kawasaki\n",
      "Year: 2024\n",
      "Model: hr2\n",
      "Horsepower: 1250\n"
     ]
    }
   ],
   "source": [
    "class vehicle:\n",
    "    def __init__(self,type,year,model):\n",
    "        self.type=type\n",
    "        self.year=year\n",
    "        self.model=model\n",
    "    def info(self):\n",
    "        print(\"Type:\",self.type)\n",
    "        print(\"Year:\",self.year)\n",
    "        print(\"Model:\",self.model)\n",
    "\n",
    "class car(vehicle):\n",
    "    def __init__(self,type,year,model,engine):\n",
    "        super().__init__(type,year,model)\n",
    "        self.engine=engine\n",
    "\n",
    "    def info(self):\n",
    "        super().info()\n",
    "        print(\"Engine:\",self.engine)\n",
    "        print('**************************')\n",
    "    \n",
    "class Bike(vehicle):\n",
    "\n",
    "    def __init__(self,type,year,model,horsepower):\n",
    "        super().__init__(type,year,model)\n",
    "        self.horsepower=horsepower\n",
    "\n",
    "    def info(self):\n",
    "        super().info()\n",
    "        print(\"Horsepower:\",self.horsepower)\n",
    "\n",
    "v1=car('mustang ',1967,'gt','v6 turbo')\n",
    "v1.info()\n",
    "\n",
    "v2=Bike('kawasaki',2024,'hr2',1250)\n",
    "v2.info()"
   ]
  },
  {
   "cell_type": "markdown",
   "metadata": {},
   "source": [
    "hierarchichal INHERITANCE\n",
    "-------------------------"
   ]
  },
  {
   "cell_type": "code",
   "execution_count": 3,
   "metadata": {},
   "outputs": [
    {
     "name": "stdout",
     "output_type": "stream",
     "text": [
      "virat\n",
      "25000\n",
      "python\n",
      "*****************\n",
      "sachin\n",
      "30000\n",
      "manual\n"
     ]
    }
   ],
   "source": [
    "class software():\n",
    "    def __init__(self, name, sal):\n",
    "        self.name = name\n",
    "        self.sal = sal\n",
    "class devloper(software):\n",
    "    def __init__(self, name, sal, lang):\n",
    "        super().__init__(name, sal)\n",
    "        self.lang = lang\n",
    "    def display(self):\n",
    "        print(self.name) \n",
    "        print(self.sal)\n",
    "        print(self.lang)\n",
    "        print('*****************')\n",
    "class tester(software):\n",
    "    def __init__(self, name, sal, testtype):\n",
    "        super().__init__(name, sal)\n",
    "        self.testtype = testtype\n",
    "    def displayinfo(self):\n",
    "        print(self.name)\n",
    "        print(self.sal)\n",
    "        print(self.testtype)\n",
    "\n",
    "d1=devloper('virat',25000,'python')\n",
    "d1.display()  \n",
    "t1=tester('sachin',30000,'manual')\n",
    "t1.displayinfo()"
   ]
  },
  {
   "cell_type": "code",
   "execution_count": 14,
   "metadata": {},
   "outputs": [
    {
     "name": "stdout",
     "output_type": "stream",
     "text": [
      "the Brand is   : Dell\n",
      "the Warranty is: 5 years\n",
      "RAM is         : 16 GB\n",
      "\n",
      "***************************************\n",
      "\n",
      "the Brand is   : Apple\n",
      "the Warranty is: 1 years\n",
      "Battery is     : 4000 mAh\n"
     ]
    }
   ],
   "source": [
    "class Electronics:\n",
    "    def __init__(self, brand, warranty):\n",
    "        self.brand = brand\n",
    "        self.warranty = warranty\n",
    "\n",
    "class Laptop(Electronics):\n",
    "    def __init__(self, brand, warranty, ram):\n",
    "        super().__init__(brand, warranty)\n",
    "        self.ram = ram\n",
    "    \n",
    "    def display(self):\n",
    "        print(\"the Brand is   :\",self.brand)\n",
    "        print(\"the Warranty is:\",self.warranty,\"years\")\n",
    "        print(\"RAM is         :\",self.ram,\"GB\")\n",
    "        print(\"\")\n",
    "        print('***************************************')\n",
    "\n",
    "class Smartphone(Electronics):\n",
    "    def __init__(self, brand, warranty, battery):\n",
    "        super().__init__(brand, warranty)\n",
    "        self.battery = battery\n",
    "    \n",
    "    def display_info(self):\n",
    "       print('')\n",
    "       print(\"the Brand is   :\",self.brand)\n",
    "       print(\"the Warranty is:\",self.warranty,\"years\")\n",
    "       print(\"Battery is     :\",self.battery,\"mAh\")\n",
    "\n",
    "l1 = Laptop('Dell', 5, 16)\n",
    "l1.display()\n",
    "\n",
    "s1 = Smartphone('Apple', 1, 4000)\n",
    "s1.display_info()\n"
   ]
  },
  {
   "cell_type": "code",
   "execution_count": 20,
   "metadata": {},
   "outputs": [
    {
     "name": "stdout",
     "output_type": "stream",
     "text": [
      "Species: rahul\n",
      "Age    : 5\n",
      "Breed  : Labrador\n",
      "\n",
      "***********************\n",
      "Species: tharun\n",
      "Age    : 3\n",
      "Color  : Black\n",
      "\n"
     ]
    }
   ],
   "source": [
    "class Animal:\n",
    "    def __init__(self, species, age):\n",
    "        self.species = species\n",
    "        self.age = age\n",
    "\n",
    "class Dog(Animal):\n",
    "    def __init__(self, species, age, breed):\n",
    "        super().__init__(species, age)\n",
    "        self.breed = breed\n",
    "    def display(self):\n",
    "        print(\"Species:\", self.species)\n",
    "        print(\"Age    :\", self.age)\n",
    "        print(\"Breed  :\", self.breed)\n",
    "        print('')\n",
    "        print('***********************')\n",
    "\n",
    "class Cat(Animal):\n",
    "    def __init__(self, species, age, color):\n",
    "        super().__init__(species, age)\n",
    "        self.color = color\n",
    "    def display_info(self):\n",
    "        print(\"Species:\", self.species)\n",
    "        print(\"Age    :\", self.age)\n",
    "        print(\"Color  :\", self.color)\n",
    "        print('')\n",
    "\n",
    "d1 = Dog('rahul', 5, 'Labrador')\n",
    "d1.display()\n",
    "\n",
    "c1 = Cat('tharun', 3, 'Black')\n",
    "c1.display_info()\n"
   ]
  },
  {
   "cell_type": "code",
   "execution_count": 27,
   "metadata": {},
   "outputs": [
    {
     "name": "stdout",
     "output_type": "stream",
     "text": [
      "make  : Toyota\n",
      "model : Camry\n",
      "doors : 4\n",
      "\n",
      "*************************\n",
      "\n",
      "make         : Himalayan\n",
      "model        : 450\n",
      "type of bike : adventure\n"
     ]
    }
   ],
   "source": [
    "class Vehicle:\n",
    "    def __init__(self, make, model):\n",
    "        self.make = make\n",
    "        self.model = model\n",
    "\n",
    "class Car(Vehicle):\n",
    "    def __init__(self, make, model, doors):\n",
    "        super().__init__(make, model)\n",
    "        self.doors = doors\n",
    "    \n",
    "    def display(self):\n",
    "        print('make  :',self.make)\n",
    "        print('model :',self.model)\n",
    "        print('doors :',self.doors) \n",
    "        print('')\n",
    "        print('*************************')\n",
    "\n",
    "class Motorcycle(Vehicle):\n",
    "    def __init__(self, make, model, type_of_bike):\n",
    "        super().__init__(make, model)\n",
    "        self.type_of_bike = type_of_bike\n",
    "    \n",
    "    def display_info(self):\n",
    "        print('')\n",
    "        print('make         :',self.make)\n",
    "        print('model        :',self.model)\n",
    "        print('type of bike :',self.type_of_bike)\n",
    "       \n",
    "c1 = Car('Toyota', 'Camry', 4)\n",
    "c1.display()\n",
    "\n",
    "m1 = Motorcycle('Himalayan', 450, 'adventure')\n",
    "m1.display_info()\n"
   ]
  },
  {
   "cell_type": "markdown",
   "metadata": {},
   "source": [
    "MULTIPLE INHERITANCE\n",
    "---------------------------------"
   ]
  },
  {
   "cell_type": "code",
   "execution_count": 29,
   "metadata": {},
   "outputs": [
    {
     "name": "stdout",
     "output_type": "stream",
     "text": [
      "Name     :  John\n",
      "Age      :  30\n",
      "Job Title:  Software Engineer\n",
      "Salary   :  60000\n"
     ]
    }
   ],
   "source": [
    "class Person:\n",
    "    def __init__(self, name, age):\n",
    "        self.name = name\n",
    "        self.age = age\n",
    "\n",
    "class Worker:\n",
    "    def __init__(self, job_title, salary):\n",
    "        self.job_title = job_title\n",
    "        self.salary = salary\n",
    "\n",
    "class Employee(Person, Worker):\n",
    "    def __init__(self, name, age, job_title, salary):\n",
    "        Person.__init__(self, name, age)\n",
    "        Worker.__init__(self, job_title, salary)\n",
    "    \n",
    "    def display(self):\n",
    "        print(\"Name     : \", self.name)\n",
    "        print(\"Age      : \", self.age)\n",
    "        print(\"Job Title: \", self.job_title)\n",
    "        print(\"Salary   : \", self.salary)\n",
    "\n",
    "e1 = Employee('John', 30, 'Software Engineer', 60000)\n",
    "e1.display()\n"
   ]
  },
  {
   "cell_type": "code",
   "execution_count": 31,
   "metadata": {},
   "outputs": [
    {
     "name": "stdout",
     "output_type": "stream",
     "text": [
      "Make: Honda\n",
      "Model: Accord\n",
      "Sunroof: True\n",
      "Navigation: True\n"
     ]
    }
   ],
   "source": [
    "class Vehicle:\n",
    "    def __init__(self, make, model):\n",
    "        self.make = make\n",
    "        self.model = model\n",
    "\n",
    "class Features:\n",
    "    def __init__(self, sunroof, navigation):\n",
    "        self.sunroof = sunroof\n",
    "        self.navigation = navigation\n",
    "\n",
    "class Car(Vehicle, Features):\n",
    "    def __init__(self, make, model, sunroof, navigation):\n",
    "        Vehicle.__init__(self, make, model)\n",
    "        Features.__init__(self, sunroof, navigation)\n",
    "    \n",
    "    def display(self):\n",
    "        print(f\"Make: {self.make}\")\n",
    "        print(f\"Model: {self.model}\")\n",
    "        print(f\"Sunroof: {self.sunroof}\")\n",
    "        print(f\"Navigation: {self.navigation}\")\n",
    "\n",
    "c1 = Car('Honda', 'Accord', True, True)\n",
    "c1.display()\n"
   ]
  },
  {
   "cell_type": "code",
   "execution_count": 34,
   "metadata": {},
   "outputs": [
    {
     "name": "stdout",
     "output_type": "stream",
     "text": [
      "Name         : Rahul\n",
      "College Name : IIT\n",
      "Address      : Delhi\n",
      "Branch Name  : CSE\n",
      "Roll No      : 21\n"
     ]
    }
   ],
   "source": [
    "class college:\n",
    "    def __init__(self, clgname, address):\n",
    "        self.clgname = clgname\n",
    "        self.address = address\n",
    "\n",
    "class branch:\n",
    "    def __init__(self, brname, rollno):\n",
    "        self.brname = brname\n",
    "        self.rollno = rollno\n",
    "\n",
    "class student(college,branch):\n",
    "    def __init__(self,name, clgname, address, brname, rollno):\n",
    "        college.__init__(self, clgname, address)\n",
    "        branch.__init__(self, brname, rollno)\n",
    "        self.name = name\n",
    "\n",
    "    def display(self):\n",
    "        print(\"Name         :\", self.name)\n",
    "        print(\"College Name :\", self.clgname)\n",
    "        print(\"Address      :\", self.address)\n",
    "        print(\"Branch Name  :\", self.brname)\n",
    "        print(\"Roll No      :\", self.rollno)\n",
    "\n",
    "s1 = student(\"Rahul\", \"IIT\", \"Delhi\", \"CSE\",21)\n",
    "s1.display()"
   ]
  },
  {
   "cell_type": "markdown",
   "metadata": {},
   "source": [
    "ABSTRACTION------ the process of hiding implementation and providing informaation to perfrom a task\n",
    "________________"
   ]
  },
  {
   "cell_type": "code",
   "execution_count": 3,
   "metadata": {},
   "outputs": [
    {
     "name": "stdout",
     "output_type": "stream",
     "text": [
      "hello\n"
     ]
    }
   ],
   "source": [
    "from abc import ABC,abstractmethod\n",
    "class Animal(ABC):\n",
    "\n",
    "    @abstractmethod\n",
    "    def makesound(self):\n",
    "        print('hello')\n",
    "    \n",
    "class dog(Animal):\n",
    "\n",
    "    def makesound(self):\n",
    "        return super().makesound()\n",
    "\n",
    "d1=dog()\n",
    "d1.makesound()"
   ]
  },
  {
   "cell_type": "code",
   "execution_count": null,
   "metadata": {},
   "outputs": [],
   "source": [
    "from abc import ABC,abstractmethod\n",
    "class Vehicle(ABC):\n",
    "\n",
    "    @abstractmethod\n",
    "    "
   ]
  },
  {
   "cell_type": "code",
   "execution_count": 4,
   "metadata": {},
   "outputs": [
    {
     "name": "stdout",
     "output_type": "stream",
     "text": [
      "78.5\n"
     ]
    }
   ],
   "source": [
    "from abc import ABC, abstractmethod\n",
    "\n",
    "class Shape(ABC):\n",
    "    @abstractmethod\n",
    "    def area(self):\n",
    "        pass\n",
    "\n",
    "class Circle(Shape):\n",
    "    def __init__(self, radius):\n",
    "        self.radius = radius\n",
    "\n",
    "    def area(self):\n",
    "        return 3.14 * self.radius ** 2\n",
    "\n",
    "c = Circle(5)\n",
    "print(c.area()) "
   ]
  }
 ],
 "metadata": {
  "kernelspec": {
   "display_name": "Python 3",
   "language": "python",
   "name": "python3"
  },
  "language_info": {
   "codemirror_mode": {
    "name": "ipython",
    "version": 3
   },
   "file_extension": ".py",
   "mimetype": "text/x-python",
   "name": "python",
   "nbconvert_exporter": "python",
   "pygments_lexer": "ipython3",
   "version": "3.12.4"
  }
 },
 "nbformat": 4,
 "nbformat_minor": 2
}
