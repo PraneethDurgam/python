{
 "cells": [
  {
   "cell_type": "code",
   "execution_count": 5,
   "metadata": {},
   "outputs": [
    {
     "name": "stdout",
     "output_type": "stream",
     "text": [
      "1\n"
     ]
    }
   ],
   "source": [
    "#min ele -2\n",
    "a=[4,5,6,45,1,2]\n",
    "i=1\n",
    "c=a[0]\n",
    "while i<len(a):\n",
    "    if c>a[i]:\n",
    "        c=a[i]\n",
    "    i+=1\n",
    "print(c)  "
   ]
  },
  {
   "cell_type": "code",
   "execution_count": 7,
   "metadata": {},
   "outputs": [
    {
     "name": "stdout",
     "output_type": "stream",
     "text": [
      "46494\n"
     ]
    }
   ],
   "source": [
    "#max ele-3\n",
    "a=[45,44,2,7,254,46494]\n",
    "i=0\n",
    "c=a[0]\n",
    "while i<len(a):\n",
    "    if c<a[i]:\n",
    "        c=a[i]\n",
    "    i+=1\n",
    "print(c)"
   ]
  },
  {
   "cell_type": "code",
   "execution_count": 124,
   "metadata": {},
   "outputs": [
    {
     "name": "stdout",
     "output_type": "stream",
     "text": [
      "77\n"
     ]
    }
   ],
   "source": [
    "#4.2nd min ele\n",
    "a=[1,54,6,78,3,74,72,70,77]\n",
    "c=a[0]\n",
    "d=a[0]\n",
    "for i in a:\n",
    "    if i>c:\n",
    "        d=c\n",
    "        c=i\n",
    "    elif i<c and i>d:\n",
    "        d=i\n",
    "\n",
    "print(d)"
   ]
  },
  {
   "cell_type": "code",
   "execution_count": 119,
   "metadata": {},
   "outputs": [
    {
     "name": "stdout",
     "output_type": "stream",
     "text": [
      "7\n"
     ]
    }
   ],
   "source": [
    "#5.2nd max ele\n",
    "a=[1,2,3,5,8,6,7]\n",
    "c=a[0]\n",
    "d=None\n",
    "for i in a:\n",
    "    if i>c:\n",
    "        d=c\n",
    "        c=i\n",
    "    elif i<c and i>d:\n",
    "        d=i\n",
    "print(d)"
   ]
  },
  {
   "cell_type": "code",
   "execution_count": 27,
   "metadata": {},
   "outputs": [
    {
     "name": "stdout",
     "output_type": "stream",
     "text": [
      "4\n"
     ]
    }
   ],
   "source": [
    "#6.average\n",
    "a=[1,4,8,7,2]\n",
    "s=0\n",
    "b=[]\n",
    "for i in a:\n",
    "    s+=i\n",
    "b=[s]\n",
    "print(b[0]//len(a))\n"
   ]
  },
  {
   "cell_type": "code",
   "execution_count": 29,
   "metadata": {},
   "outputs": [
    {
     "name": "stdout",
     "output_type": "stream",
     "text": [
      "14\n"
     ]
    }
   ],
   "source": [
    "#7.sum of even indexes elemts\n",
    "a=[1,4,8,7,5]\n",
    "i=0\n",
    "s=0\n",
    "while i<len(a):\n",
    "    if i%2==0:\n",
    "        s+=a[i]\n",
    "    i+=1\n",
    "print(s)"
   ]
  },
  {
   "cell_type": "code",
   "execution_count": 30,
   "metadata": {},
   "outputs": [
    {
     "name": "stdout",
     "output_type": "stream",
     "text": [
      "11\n"
     ]
    }
   ],
   "source": [
    "#8.odd indexed sum\n",
    "a=[1,4,8,7,5]\n",
    "i=0\n",
    "s=0\n",
    "while i<len(a):\n",
    "    if i%2==1:\n",
    "        s+=a[i]\n",
    "    i+=1\n",
    "print(s)"
   ]
  },
  {
   "cell_type": "code",
   "execution_count": 37,
   "metadata": {},
   "outputs": [
    {
     "name": "stdout",
     "output_type": "stream",
     "text": [
      "5\n"
     ]
    }
   ],
   "source": [
    "#min value in even indexed\n",
    "a=[10,4,8,7,5,]\n",
    "i=0\n",
    "min=a[0]\n",
    "while i<len(a):\n",
    "    if i%2==0:\n",
    "        if min>a[i]:\n",
    "            min=a[i]\n",
    "    i+=1\n",
    "print(min)"
   ]
  },
  {
   "cell_type": "code",
   "execution_count": 41,
   "metadata": {},
   "outputs": [
    {
     "name": "stdout",
     "output_type": "stream",
     "text": [
      "20\n"
     ]
    }
   ],
   "source": [
    "#10.max value in odd indexed\n",
    "a=[10,4,8,7,5,15,12,20]\n",
    "i=0\n",
    "max=a[0]\n",
    "while i<len(a):\n",
    "    if i%2==1:\n",
    "        if max<a[i]:\n",
    "            max=a[i]\n",
    "    i+=1\n",
    "print(max)"
   ]
  },
  {
   "cell_type": "code",
   "execution_count": 53,
   "metadata": {},
   "outputs": [
    {
     "name": "stdout",
     "output_type": "stream",
     "text": [
      "[4, 8, 52]\n",
      "21\n"
     ]
    }
   ],
   "source": [
    "#11.avg of all even indexed ele\n",
    "a=[4,5,7,8,52,1]\n",
    "l=[]\n",
    "for i in a:\n",
    "    if i%2==0:\n",
    "        l+=[i]\n",
    "print(l)\n",
    "s=0\n",
    "b=[]\n",
    "for j in l:\n",
    "    s+=j\n",
    "    b=[s]\n",
    "print(b[0]//len(l))"
   ]
  },
  {
   "cell_type": "code",
   "execution_count": 54,
   "metadata": {},
   "outputs": [
    {
     "name": "stdout",
     "output_type": "stream",
     "text": [
      "[5, 7, 1]\n",
      "4\n"
     ]
    }
   ],
   "source": [
    "#avg of all odd indexed elements-12\n",
    "\n",
    "a=[4,5,7,8,52,1]\n",
    "l=[]\n",
    "for i in a:\n",
    "    if i%2==1:\n",
    "        l+=[i]\n",
    "print(l)\n",
    "s=0\n",
    "b=[]\n",
    "for j in l:\n",
    "    s+=j\n",
    "    b=[s]\n",
    "print(b[0]//len(l))"
   ]
  },
  {
   "cell_type": "code",
   "execution_count": 67,
   "metadata": {},
   "outputs": [
    {
     "name": "stdout",
     "output_type": "stream",
     "text": [
      "[1, 4, 5, 7]\n",
      "17\n"
     ]
    }
   ],
   "source": [
    "#sum of fst half-13\n",
    "a=[1,4,5,7,3,5,2,8]\n",
    "b=[]\n",
    "i=0\n",
    "while i<len(a)//2:\n",
    "    b+=[a[i]]\n",
    "    i+=1\n",
    "print(b)\n",
    "s=0\n",
    "for i in b:\n",
    "    s+=i\n",
    "print(s)"
   ]
  },
  {
   "cell_type": "code",
   "execution_count": 169,
   "metadata": {},
   "outputs": [
    {
     "name": "stdout",
     "output_type": "stream",
     "text": [
      "37\n"
     ]
    }
   ],
   "source": [
    "#second half sum-14\n",
    "a=[11,4,11,2,8,2,6,21]\n",
    "mid=len(a)//2\n",
    "c=0\n",
    "while mid<len(a):\n",
    "    c=c+a[mid]\n",
    "    mid+=1\n",
    "print(c)    "
   ]
  },
  {
   "cell_type": "code",
   "execution_count": 137,
   "metadata": {},
   "outputs": [
    {
     "name": "stdout",
     "output_type": "stream",
     "text": [
      "[1, 4, 5, 8]\n",
      "1\n"
     ]
    }
   ],
   "source": [
    "#15-min in fst half\n",
    "a=[1,4,5,8,24,2,25,4]\n",
    "b=[]\n",
    "i=0\n",
    "while i<len(a)//2:\n",
    "    b+=[a[i]]\n",
    "    i+=1\n",
    "print(b)\n",
    "min=b[0]\n",
    "for i in b:\n",
    "    if min>i:\n",
    "        min=i\n",
    "print(min)\n",
    "        "
   ]
  },
  {
   "cell_type": "code",
   "execution_count": 146,
   "metadata": {},
   "outputs": [
    {
     "name": "stdout",
     "output_type": "stream",
     "text": [
      "0\n"
     ]
    }
   ],
   "source": [
    "#16-min value in 2nd half\n",
    "a=[1,4,5,7,3,5,2,8,0]\n",
    "mid=len(a)//2\n",
    "min=a[mid]\n",
    "while mid<len(a):\n",
    "    if min>a[mid]:\n",
    "        min=a[mid]\n",
    "    mid+=1   \n",
    "print(min) "
   ]
  },
  {
   "cell_type": "code",
   "execution_count": 149,
   "metadata": {},
   "outputs": [
    {
     "name": "stdout",
     "output_type": "stream",
     "text": [
      "[1, 4, 5, 24]\n",
      "24\n"
     ]
    }
   ],
   "source": [
    "#17-max from fst half\n",
    "a=[1,4,5,24,2,25,4,4]\n",
    "b=[]\n",
    "i=0\n",
    "while i<len(a)//2:\n",
    "    b+=[a[i]]\n",
    "    i+=1\n",
    "print(b)\n",
    "min=b[0]\n",
    "for i in b:\n",
    "    if min<i:\n",
    "        min=i\n",
    "print(min)"
   ]
  },
  {
   "cell_type": "code",
   "execution_count": 153,
   "metadata": {},
   "outputs": [
    {
     "name": "stdout",
     "output_type": "stream",
     "text": [
      "25\n"
     ]
    }
   ],
   "source": [
    "#18--max from snd half\n",
    "a=[1,4,5,7,33,25,2,8,0,18]\n",
    "mid=len(a)//2\n",
    "min=a[mid]\n",
    "while mid<len(a):\n",
    "    if min<a[mid]:\n",
    "        min=a[mid]\n",
    "    mid+=1   \n",
    "print(min) "
   ]
  },
  {
   "cell_type": "code",
   "execution_count": 165,
   "metadata": {},
   "outputs": [
    {
     "name": "stdout",
     "output_type": "stream",
     "text": [
      "[1, 4, 11, 2]\n",
      "18\n",
      "4.5\n"
     ]
    }
   ],
   "source": [
    "#19--avg from fst half\n",
    "a=[1,4,11,2,8,2,6,2]\n",
    "b=[]\n",
    "i=0\n",
    "while i<len(a)//2:\n",
    "    b+=[a[i]]\n",
    "    i+=1\n",
    "print(b)\n",
    "s=0\n",
    "for i in b:\n",
    "    s+=i\n",
    "print(s)\n",
    "print(s/len(b))"
   ]
  },
  {
   "cell_type": "code",
   "execution_count": 164,
   "metadata": {},
   "outputs": [
    {
     "name": "stdout",
     "output_type": "stream",
     "text": [
      "4.5\n"
     ]
    }
   ],
   "source": [
    "#same another method\n",
    "a=[1,4,11,2,8,2,6,2]\n",
    "s=0\n",
    "mid=len(a)//2\n",
    "for i in range(0,mid):\n",
    "    s+=a[i]\n",
    "print(s/mid)"
   ]
  },
  {
   "cell_type": "code",
   "execution_count": 168,
   "metadata": {},
   "outputs": [
    {
     "name": "stdout",
     "output_type": "stream",
     "text": [
      "9.25\n"
     ]
    }
   ],
   "source": [
    "#20--avg in snd half\n",
    "a=[1,4,11,2,8,2,6,21]\n",
    "s=0\n",
    "mid=len(a)//2\n",
    "for i in range(mid,len(a)):\n",
    "    s+=a[i]\n",
    "print(s/mid)"
   ]
  },
  {
   "cell_type": "code",
   "execution_count": 184,
   "metadata": {},
   "outputs": [
    {
     "name": "stdout",
     "output_type": "stream",
     "text": [
      "[9, 24, 8, 3, 5, 4, 1]\n"
     ]
    }
   ],
   "source": [
    "#21-all ele in reverse\n",
    "a=[1,4,5,3,8,24,9]\n",
    "s=[]\n",
    "i=len(a)-1\n",
    "while i>=0:\n",
    "    s+=[a[i]]\n",
    "    i-=1\n",
    "print(s)"
   ]
  },
  {
   "cell_type": "code",
   "execution_count": 182,
   "metadata": {},
   "outputs": [
    {
     "name": "stdout",
     "output_type": "stream",
     "text": [
      "[3, 8, 4]\n"
     ]
    }
   ],
   "source": [
    "#22-read fst half in reverse\n",
    "a=[4,8,3,9,7,4]\n",
    "mid=len(a)//2-1\n",
    "s=[]\n",
    "while mid>=0:\n",
    "    s+=[a[mid]]\n",
    "    mid-=1\n",
    "print(s)"
   ]
  },
  {
   "cell_type": "code",
   "execution_count": 200,
   "metadata": {},
   "outputs": [
    {
     "name": "stdout",
     "output_type": "stream",
     "text": [
      "[21, 6, 2, 8]\n"
     ]
    }
   ],
   "source": [
    "#23--snd half in rev\n",
    "a=[1,4,11,2,8,2,6,21]\n",
    "s=[]\n",
    "mid=len(a)//2\n",
    "while mid<len(a):\n",
    "    d=a[mid]\n",
    "    s=[d]+s\n",
    "    mid+=1\n",
    "print(s)\n"
   ]
  },
  {
   "cell_type": "code",
   "execution_count": 210,
   "metadata": {},
   "outputs": [
    {
     "name": "stdout",
     "output_type": "stream",
     "text": [
      "[4, 6, 4, 14]\n"
     ]
    }
   ],
   "source": [
    "#24---even indexed ele\n",
    "a=[4,5,6,8,4,25,14]\n",
    "i=0\n",
    "b=[]\n",
    "while i<len(a):\n",
    "    if i%2==0:\n",
    "        b+=[a[i]]\n",
    "    i+=1\n",
    "print(b)"
   ]
  },
  {
   "cell_type": "code",
   "execution_count": 211,
   "metadata": {},
   "outputs": [
    {
     "name": "stdout",
     "output_type": "stream",
     "text": [
      "[25, 4, 6, 4]\n"
     ]
    }
   ],
   "source": [
    "#25\n",
    "a=[4,5,6,8,4,24,25]\n",
    "i=0\n",
    "b=[]\n",
    "while i<len(a):\n",
    "    if i%2==0:\n",
    "        b=[a[i]]+b\n",
    "    i+=1\n",
    "print(b)"
   ]
  },
  {
   "cell_type": "code",
   "execution_count": 213,
   "metadata": {},
   "outputs": [
    {
     "name": "stdout",
     "output_type": "stream",
     "text": [
      "[5, 8]\n"
     ]
    }
   ],
   "source": [
    "#26\n",
    "a=[4,5,6,8]\n",
    "i=0\n",
    "b=[]\n",
    "while i<len(a):\n",
    "    if i%2==1:\n",
    "        b+=[a[i]]\n",
    "    i+=1\n",
    "print(b)"
   ]
  },
  {
   "cell_type": "code",
   "execution_count": 1,
   "metadata": {},
   "outputs": [
    {
     "name": "stdout",
     "output_type": "stream",
     "text": [
      "[45, 25, 8, 5]\n"
     ]
    }
   ],
   "source": [
    "#27\n",
    "a=[4,5,6,8,24,25,14,45]\n",
    "i=0\n",
    "b=[]\n",
    "while i<len(a):\n",
    "    if i%2==1:\n",
    "        b=[a[i]]+b\n",
    "    i+=1\n",
    "print(b)"
   ]
  },
  {
   "cell_type": "code",
   "execution_count": 12,
   "metadata": {},
   "outputs": [
    {
     "name": "stdout",
     "output_type": "stream",
     "text": [
      "5\n"
     ]
    }
   ],
   "source": [
    "#28\n",
    "a=[1,4,8,14,25,12]\n",
    "b=int(input())\n",
    "i=0\n",
    "while i<len(a):\n",
    "    if  a[i]==b:\n",
    "        print(i)\n",
    "    i+=1\n",
    "if b not in a:\n",
    "    print('not in a')\n"
   ]
  },
  {
   "cell_type": "code",
   "execution_count": 1,
   "metadata": {},
   "outputs": [
    {
     "name": "stdout",
     "output_type": "stream",
     "text": [
      "[5, 6, 9, 3, 8, 4, 1]\n"
     ]
    }
   ],
   "source": [
    "#30\n",
    "a=[1,4,8,3,9,6,5]\n",
    "b=[]\n",
    "for i in a:\n",
    "    b=[i]+b\n",
    "print(b)"
   ]
  },
  {
   "cell_type": "code",
   "execution_count": 4,
   "metadata": {},
   "outputs": [
    {
     "name": "stdout",
     "output_type": "stream",
     "text": [
      "[5, 4, 3, 2, 1, 6, 7, 8, 9, 0]\n"
     ]
    }
   ],
   "source": [
    "#31\n",
    "a=[1,2,3,4,5,6,7,8,9,0]\n",
    "mid=len(a)//2\n",
    "b=[]\n",
    "i=0\n",
    "while i<len(a):\n",
    "    if i<mid:\n",
    "        b=[a[i]]+b\n",
    "    else:\n",
    "        b+=[a[i]]\n",
    "    i+=1\n",
    "print(b)"
   ]
  },
  {
   "cell_type": "code",
   "execution_count": 8,
   "metadata": {},
   "outputs": [
    {
     "name": "stdout",
     "output_type": "stream",
     "text": [
      "[1, 2, 3, 4, 8, 7, 6, 5]\n"
     ]
    }
   ],
   "source": [
    "#32\n",
    "l=[1,2,3,4,5,6,7,8]\n",
    "mid=len(l)//2\n",
    "res=[]\n",
    "i=len(l)-1\n",
    "while i>=0:\n",
    "    if i>=0 and i<mid:\n",
    "        res=[l[i]]+res\n",
    "    else:\n",
    "        res+=[l[i]]\n",
    "    i-=1\n",
    "print(res)"
   ]
  },
  {
   "cell_type": "code",
   "execution_count": 9,
   "metadata": {},
   "outputs": [
    {
     "name": "stdout",
     "output_type": "stream",
     "text": [
      "[8, 1, 6, 3, 4, 5, 2, 7, 0, 9]\n"
     ]
    }
   ],
   "source": [
    "#33\n",
    "l=[0,1,2,3,4,5,6,7,8,9]\n",
    "ls=[]\n",
    "i=0\n",
    "j=len(l)-1\n",
    "while i<len(l) and j>=0:\n",
    "    if j%2==1:\n",
    "        ls=[l[j]]+ls\n",
    "    if i%2==0:\n",
    "        ls=[l[i]]+ls\n",
    "    i+=1\n",
    "    j-=1\n",
    "print(ls)"
   ]
  },
  {
   "cell_type": "code",
   "execution_count": 13,
   "metadata": {},
   "outputs": [
    {
     "name": "stdout",
     "output_type": "stream",
     "text": [
      "[0, 9, 2, 7, 4, 5, 6, 3, 8, 1]\n"
     ]
    }
   ],
   "source": [
    "#34\n",
    "l=[0,1,2,3,4,5,6,7,8,9]\n",
    "ls=[]\n",
    "i=len(l)-1\n",
    "j=0\n",
    "while i>=0 and j<len(l):\n",
    "    if j%2==1:\n",
    "        ls=[l[j]]+ls\n",
    "    if i%2==0:\n",
    "        ls=[l[i]]+ls\n",
    "    i-=1\n",
    "    j+=1\n",
    "print(ls)"
   ]
  },
  {
   "cell_type": "code",
   "execution_count": 14,
   "metadata": {},
   "outputs": [
    {
     "name": "stdout",
     "output_type": "stream",
     "text": [
      "[1, 3, 2, 5, 4, 7, 6, 9, 8]\n"
     ]
    }
   ],
   "source": [
    "#35\n",
    "l=[1,2,3,4,5,6,7,8,9]\n",
    "i=1\n",
    "res=[l[0]]\n",
    "while i<len(l):\n",
    "    ch=l[i]\n",
    "    ch1=l[i+1]\n",
    "    res+=[ch1]\n",
    "    res+=[ch]\n",
    "    i+=2\n",
    "print(res)"
   ]
  },
  {
   "cell_type": "code",
   "execution_count": 16,
   "metadata": {},
   "outputs": [
    {
     "name": "stdout",
     "output_type": "stream",
     "text": [
      "[0, 1, 2, 3, 4, 5, 6, 7, 8]\n"
     ]
    }
   ],
   "source": [
    "#36\n",
    "l=[1,2,3,4,5,6,7,8,9]\n",
    "i=0\n",
    "res=[]\n",
    "n=int(input())\n",
    "n1=n\n",
    "res[:n1]=[0]*n1\n",
    "while n!=0:\n",
    "    for i in range(len(l)-n1):\n",
    "        res+=[l[i]] \n",
    "    n-=1\n",
    "print(res)"
   ]
  },
  {
   "cell_type": "code",
   "execution_count": 18,
   "metadata": {},
   "outputs": [
    {
     "name": "stdout",
     "output_type": "stream",
     "text": [
      "[0, 0, 1, 2, 3, 4, 5, 6, 7]\n"
     ]
    }
   ],
   "source": [
    "#37\n",
    "l=[1,2,3,4,5,6,7,8,9]\n",
    "i=0\n",
    "res=[]\n",
    "n=int(input())\n",
    "n1=n\n",
    "res[:n1]=[0]*n1\n",
    "while n!=0:\n",
    "    for i in range(len(l)-n1):\n",
    "        res+=[l[i]] \n",
    "    break\n",
    "print(res)\n"
   ]
  },
  {
   "cell_type": "code",
   "execution_count": 19,
   "metadata": {},
   "outputs": [
    {
     "name": "stdout",
     "output_type": "stream",
     "text": [
      "[0, 0, 0, 1, 2, 3, 4, 5, 6]\n"
     ]
    }
   ],
   "source": [
    "#38\n",
    "l=[1,2,3,4,5,6,7,8,9]\n",
    "i=0\n",
    "res=[]\n",
    "n=int(input())\n",
    "n1=n\n",
    "res[:n1]=[0]*n1\n",
    "while n!=0:\n",
    "    for i in range(len(l)-n1):\n",
    "        res+=[l[i]] \n",
    "    break\n",
    "print(res)\n"
   ]
  },
  {
   "cell_type": "code",
   "execution_count": 20,
   "metadata": {},
   "outputs": [
    {
     "name": "stdout",
     "output_type": "stream",
     "text": [
      "[2, 3, 4, 5, 6, 7, 8, 9, 0]\n"
     ]
    }
   ],
   "source": [
    "#39\n",
    "l=[1,2,3,4,5,6,7,8,9]\n",
    "i=0\n",
    "res=[]\n",
    "n=int(input())\n",
    "n1=n\n",
    "while n!=0:\n",
    "    for i in range(n1,len(l)):\n",
    "        res+=[l[i]]\n",
    "    break\n",
    "res[len(l)-n1:]=[0]*n1\n",
    "print(res)"
   ]
  },
  {
   "cell_type": "code",
   "execution_count": 21,
   "metadata": {},
   "outputs": [
    {
     "name": "stdout",
     "output_type": "stream",
     "text": [
      "[3, 4, 5, 6, 7, 8, 9, 0, 0]\n"
     ]
    }
   ],
   "source": [
    "#40\n",
    "l=[1,2,3,4,5,6,7,8,9]\n",
    "i=0\n",
    "res=[]\n",
    "n=int(input())\n",
    "n1=n\n",
    "while n!=0:\n",
    "    for i in range(n1,len(l)):\n",
    "        res+=[l[i]]\n",
    "    break\n",
    "res[len(l)-n1:]=[0]*n1\n",
    "print(res)"
   ]
  },
  {
   "cell_type": "code",
   "execution_count": 22,
   "metadata": {},
   "outputs": [
    {
     "name": "stdout",
     "output_type": "stream",
     "text": [
      "[4, 5, 6, 7, 8, 9, 0, 0, 0]\n"
     ]
    }
   ],
   "source": [
    "#41\n",
    "l=[1,2,3,4,5,6,7,8,9]\n",
    "i=0\n",
    "res=[]\n",
    "n=int(input())\n",
    "n1=n\n",
    "while n!=0:\n",
    "    for i in range(n1,len(l)):\n",
    "        res+=[l[i]]\n",
    "    break\n",
    "res[len(l)-n1:]=[0]*n1\n",
    "print(res)"
   ]
  }
 ],
 "metadata": {
  "kernelspec": {
   "display_name": "Python 3",
   "language": "python",
   "name": "python3"
  },
  "language_info": {
   "codemirror_mode": {
    "name": "ipython",
    "version": 3
   },
   "file_extension": ".py",
   "mimetype": "text/x-python",
   "name": "python",
   "nbconvert_exporter": "python",
   "pygments_lexer": "ipython3",
   "version": "3.12.2"
  }
 },
 "nbformat": 4,
 "nbformat_minor": 2
}
