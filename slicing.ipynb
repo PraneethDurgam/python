{
 "cells": [
  {
   "cell_type": "code",
   "execution_count": 22,
   "metadata": {},
   "outputs": [
    {
     "name": "stdout",
     "output_type": "stream",
     "text": [
      "jor\n",
      "will\n",
      "james\n",
      "[40, 200, 300]\n",
      "{'name': 'meason mount', 'age': 24, 'club': 'chelsea'}\n",
      "mount\n",
      "['name', 'age', 'club']\n",
      "['club', 'age']\n",
      "540\n",
      "chelsea\n",
      "42\n",
      "tnuom nosaem\n",
      "aeslehc\n"
     ]
    }
   ],
   "source": [
    "l=['jordan','will blake',[300,200,40,'james willson'],{1:{'name':'meason mount','age':24,'club':'chelsea'}}]\n",
    "print(l[0][0:3])\n",
    "print(l[1][0:4])\n",
    "print(l[2][3][0:5])\n",
    "print(l[2][2::-1])\n",
    "print(l[3][1])\n",
    "print(l[3][1]['name'][7:])\n",
    "print(list(l[3][1]))\n",
    "print(list(l[3][1])[2:0:-1])\n",
    "print(l[2][0]+l[2][1]+l[2][2])\n",
    "print(l[3][1]['club'])\n",
    "print(str(l[3][1]['age'])[::-1])\n",
    "print(str(l[3][1]['name'])[::-1])\n",
    "print(str(l[3][1]['club'])[::-1])\n",
    "\n"
   ]
  },
  {
   "cell_type": "code",
   "execution_count": 49,
   "metadata": {},
   "outputs": [
    {
     "name": "stdout",
     "output_type": "stream",
     "text": [
      "oneplus\n",
      "apple\n",
      "venu\n",
      "gopal\n",
      "amaresh\n",
      "anaconda\n",
      "elppa\n",
      "\n",
      "['apple', 'oneplus']\n",
      "ana\n",
      "\n"
     ]
    }
   ],
   "source": [
    "d={1:['oneplus','apple'],2:{'name1':'venugopal','name2':'amaresh'},'a':'anaconda'}\n",
    "print(d[1][0])\n",
    "print(d[1][1])\n",
    "print(d[2]['name1'][0:4])\n",
    "print(d[2]['name1'][4::])\n",
    "print(d[2]['name2'])\n",
    "print(d['a'])\n",
    "print(d[1][1][-1: :-1])\n",
    "print(d[1][0][-1:-5])\n",
    "print(d[1][::-1])\n",
    "print(str(d['a'][0:3]))\n",
    "print(d[2]['name2'][-1:-4])\n"
   ]
  }
 ],
 "metadata": {
  "kernelspec": {
   "display_name": "Python 3",
   "language": "python",
   "name": "python3"
  },
  "language_info": {
   "codemirror_mode": {
    "name": "ipython",
    "version": 3
   },
   "file_extension": ".py",
   "mimetype": "text/x-python",
   "name": "python",
   "nbconvert_exporter": "python",
   "pygments_lexer": "ipython3",
   "version": "3.12.2"
  }
 },
 "nbformat": 4,
 "nbformat_minor": 2
}
