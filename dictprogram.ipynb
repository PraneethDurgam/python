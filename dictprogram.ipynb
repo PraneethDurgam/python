{
 "cells": [
  {
   "cell_type": "code",
   "execution_count": 11,
   "metadata": {},
   "outputs": [
    {
     "name": "stdout",
     "output_type": "stream",
     "text": [
      "{1: 4, 2: 16, 3: 36}\n"
     ]
    }
   ],
   "source": [
    "d={1:2,2:4,3:6}\n",
    "for i in d:\n",
    "    key=i\n",
    "    value=d[i]**2\n",
    "    d[key]=value\n",
    "print(d)"
   ]
  },
  {
   "cell_type": "code",
   "execution_count": 21,
   "metadata": {},
   "outputs": [
    {
     "name": "stdout",
     "output_type": "stream",
     "text": [
      "not\n"
     ]
    }
   ],
   "source": [
    "d={1:9,2:8,3:7}\n",
    "key=int(input())\n",
    "c=0\n",
    "for i in d:\n",
    "    if  key==i:\n",
    "        c+=1\n",
    "if  c>0:\n",
    "    print('key is present')\n",
    "else:\n",
    "    print('not')"
   ]
  },
  {
   "cell_type": "code",
   "execution_count": 28,
   "metadata": {},
   "outputs": [
    {
     "name": "stdout",
     "output_type": "stream",
     "text": [
      "{1: 1, 2: 4, 3: 9, 4: 16, 5: 25}\n"
     ]
    }
   ],
   "source": [
    "d={}\n",
    "n=int(input())\n",
    "for i in range(n):\n",
    "    key=int(input())\n",
    "    value=key**2\n",
    "    d[key]=value\n",
    "print(d)"
   ]
  },
  {
   "cell_type": "code",
   "execution_count": 37,
   "metadata": {},
   "outputs": [
    {
     "name": "stdout",
     "output_type": "stream",
     "text": [
      "{1: 1, 2: 4, 3: 9, 4: 16, 5: 25}\n"
     ]
    }
   ],
   "source": [
    "#4\n",
    "d={}\n",
    "n=int(input())\n",
    "for i in range(1,n+1):\n",
    "    d[i]=i*i\n",
    "print(d)"
   ]
  },
  {
   "cell_type": "code",
   "execution_count": 39,
   "metadata": {},
   "outputs": [
    {
     "name": "stdout",
     "output_type": "stream",
     "text": [
      "{1: (1, 1), 2: (2, 4), 3: (3, 9), 4: (4, 16)}\n"
     ]
    }
   ],
   "source": [
    "#5\n",
    "d={}\n",
    "n=int(input())\n",
    "for i in range(1,n+1):\n",
    "    d[i]=(i,i*i)\n",
    "print(d)"
   ]
  },
  {
   "cell_type": "code",
   "execution_count": 41,
   "metadata": {},
   "outputs": [
    {
     "name": "stdout",
     "output_type": "stream",
     "text": [
      "{'csk': 5, 'rcb': 1}\n"
     ]
    }
   ],
   "source": [
    "#6\n",
    "l=['csk','rcb']\n",
    "l2=[5,1]\n",
    "d={}\n",
    "j=0\n",
    "for  i in l:\n",
    "    d[i]=l2[j]\n",
    "    j+=1\n",
    "print(d)"
   ]
  },
  {
   "cell_type": "code",
   "execution_count": 44,
   "metadata": {},
   "outputs": [
    {
     "name": "stdout",
     "output_type": "stream",
     "text": [
      "{1: 100, 2: 200, 3: 300, 4: 400}\n"
     ]
    }
   ],
   "source": [
    "#7\n",
    "d1={1:100,2:200}\n",
    "d2={3:300,4:400}\n",
    "for i in d2:\n",
    "    d1[i]=d2[i]\n",
    "print(d1)"
   ]
  },
  {
   "cell_type": "code",
   "execution_count": 45,
   "metadata": {},
   "outputs": [
    {
     "name": "stdout",
     "output_type": "stream",
     "text": [
      "192\n"
     ]
    }
   ],
   "source": [
    "#8\n",
    "d={1:4,2:6,3:8}\n",
    "p=1\n",
    "for i in d:\n",
    "    p=p*d[i]\n",
    "print(p)\n"
   ]
  },
  {
   "cell_type": "code",
   "execution_count": 46,
   "metadata": {},
   "outputs": [
    {
     "name": "stdout",
     "output_type": "stream",
     "text": [
      "18\n"
     ]
    }
   ],
   "source": [
    "#10\n",
    "d={1:4,2:6,3:8}\n",
    "p=0\n",
    "for i in d:\n",
    "    p=p+d[i]\n",
    "print(p)"
   ]
  },
  {
   "cell_type": "code",
   "execution_count": 48,
   "metadata": {},
   "outputs": [
    {
     "name": "stdout",
     "output_type": "stream",
     "text": [
      "{1: 100, 3: 300}\n"
     ]
    }
   ],
   "source": [
    "#9\n",
    "d={1:100,2:200,3:300}\n",
    "d1={}\n",
    "key=int(input())\n",
    "for i in d:\n",
    "    if key!=i:\n",
    "        d1[i]=d[i]\n",
    "print(d1)\n"
   ]
  },
  {
   "cell_type": "code",
   "execution_count": 66,
   "metadata": {},
   "outputs": [
    {
     "name": "stdout",
     "output_type": "stream",
     "text": [
      "{'p': 1, 'r': 1, 'a': 1, 'n': 1, 'e': 2, 't': 1, 'h': 1}\n"
     ]
    }
   ],
   "source": [
    "st='praneeth'\n",
    "d={}\n",
    "c=0\n",
    "for i in st:\n",
    "    if i not in d:\n",
    "        d[i]=i\n",
    "        c=0\n",
    "    if i in d:\n",
    "        c+=1\n",
    "        d[i]=c\n",
    "print(d)\n"
   ]
  },
  {
   "cell_type": "code",
   "execution_count": 88,
   "metadata": {},
   "outputs": [
    {
     "name": "stdout",
     "output_type": "stream",
     "text": [
      "{2: 2, 1: 5, 'rani': 1}\n"
     ]
    }
   ],
   "source": [
    "l=[2,1,1,1,1,1,2,'rani']\n",
    "d={}\n",
    "for i in l:\n",
    "    if i not in d:\n",
    "        d[i]=1\n",
    "    elif i in d:\n",
    "        d[i]=d[i]+1\n",
    "print(d)"
   ]
  },
  {
   "cell_type": "code",
   "execution_count": null,
   "metadata": {},
   "outputs": [],
   "source": []
  }
 ],
 "metadata": {
  "kernelspec": {
   "display_name": "Python 3",
   "language": "python",
   "name": "python3"
  },
  "language_info": {
   "codemirror_mode": {
    "name": "ipython",
    "version": 3
   },
   "file_extension": ".py",
   "mimetype": "text/x-python",
   "name": "python",
   "nbconvert_exporter": "python",
   "pygments_lexer": "ipython3",
   "version": "3.12.2"
  }
 },
 "nbformat": 4,
 "nbformat_minor": 2
}
