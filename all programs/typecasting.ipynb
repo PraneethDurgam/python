{
 "cells": [
  {
   "cell_type": "code",
   "execution_count": 2,
   "metadata": {},
   "outputs": [
    {
     "name": "stdout",
     "output_type": "stream",
     "text": [
      "{12: 5, 'name': 'praneeth'}\n",
      "[12, 'name']\n",
      "(12, 'name')\n",
      "{12, 'name'}\n"
     ]
    }
   ],
   "source": [
    "a={12:5,'name':\"praneeth\"}\n",
    "print(str(a))\n",
    "print(list(a))\n",
    "print(tuple(a))\n",
    "print(set(a))"
   ]
  },
  {
   "cell_type": "code",
   "execution_count": 3,
   "metadata": {},
   "outputs": [
    {
     "name": "stdout",
     "output_type": "stream",
     "text": [
      "50\n",
      "(50.3+0j)\n",
      "True\n",
      "50.3\n",
      "50\n"
     ]
    }
   ],
   "source": [
    "d=50.3\n",
    "print(int(d))\n",
    "print(complex(d))\n",
    "print(bool(d))\n",
    "print(str(d))\n",
    "print(int(d))"
   ]
  },
  {
   "cell_type": "code",
   "execution_count": 1,
   "metadata": {},
   "outputs": [
    {
     "name": "stdout",
     "output_type": "stream",
     "text": [
      "True\n",
      "(1+3j)\n",
      "(\n",
      "1\n",
      "+\n",
      "3\n",
      "j\n",
      ")\n"
     ]
    }
   ],
   "source": [
    "b=1+3j\n",
    "print(bool(b))\n",
    "print(str(b))\n",
    "print(str(b)[0])\n",
    "print(str(b)[1])\n",
    "print(str(b)[2])\n",
    "print(str(b)[3])\n",
    "print(str(b)[4])   \n",
    "print(str(b)[5])  "
   ]
  },
  {
   "cell_type": "code",
   "execution_count": 12,
   "metadata": {},
   "outputs": [
    {
     "name": "stdout",
     "output_type": "stream",
     "text": [
      "1.0\n"
     ]
    }
   ],
   "source": [
    "a=1\n",
    "print(float(a))"
   ]
  }
 ],
 "metadata": {
  "kernelspec": {
   "display_name": "base",
   "language": "python",
   "name": "python3"
  },
  "language_info": {
   "codemirror_mode": {
    "name": "ipython",
    "version": 3
   },
   "file_extension": ".py",
   "mimetype": "text/x-python",
   "name": "python",
   "nbconvert_exporter": "python",
   "pygments_lexer": "ipython3",
   "version": "0.0.0"
  }
 },
 "nbformat": 4,
 "nbformat_minor": 2
}
