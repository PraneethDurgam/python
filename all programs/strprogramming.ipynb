{
 "cells": [
  {
   "cell_type": "code",
   "execution_count": 6,
   "metadata": {},
   "outputs": [
    {
     "name": "stdout",
     "output_type": "stream",
     "text": [
      "a3b1c2d1\n"
     ]
    }
   ],
   "source": [
    "st=input()\n",
    "res=\"\"\n",
    "c=1\n",
    "i=0\n",
    "while i<len(st)-1:\n",
    "    ch=st[i]\n",
    "    ch1=st[i+1]\n",
    "    if (ch!=ch1):\n",
    "        res+=ch+str(c)\n",
    "        c=1\n",
    "    else:\n",
    "        c+=1\n",
    "    i+=1\n",
    "res+=st[-1]+str(c)\n",
    "print(res)"
   ]
  },
  {
   "cell_type": "code",
   "execution_count": 12,
   "metadata": {},
   "outputs": [
    {
     "name": "stdout",
     "output_type": "stream",
     "text": [
      "aaabccdeeeeeeeee\n"
     ]
    }
   ],
   "source": [
    "st='a3b1c2d1e9'\n",
    "res=''\n",
    "i=0\n",
    "while i<len(st):\n",
    "    res+=st[i]*int(st[i+1])\n",
    "    i+=2\n",
    "print(res)\n"
   ]
  },
  {
   "cell_type": "code",
   "execution_count": 12,
   "metadata": {},
   "outputs": [
    {
     "name": "stdout",
     "output_type": "stream",
     "text": [
      "praneeth\n",
      "e\n",
      "last occurance index 5\n"
     ]
    }
   ],
   "source": [
    "#last occurance in a str\n",
    "st=input()\n",
    "print(st)\n",
    "c=input()\n",
    "print(c)\n",
    "co=0\n",
    "i=len(st)-1\n",
    "while i>=0:\n",
    "    if st[i]==c:\n",
    "        co+=1\n",
    "        if co<=1:\n",
    "            print('last occurance index',i)\n",
    "    i-=1\n",
    "\n"
   ]
  },
  {
   "cell_type": "code",
   "execution_count": 6,
   "metadata": {},
   "outputs": [
    {
     "name": "stdout",
     "output_type": "stream",
     "text": [
      "praneeth\n",
      "e\n",
      "fst occurance index 4\n"
     ]
    }
   ],
   "source": [
    "#fst occurance \n",
    "st=input()\n",
    "print(st)\n",
    "a=input()\n",
    "print(a)\n",
    "i=0\n",
    "c=0\n",
    "while i<len(st)-1:\n",
    "    if st[i]==a:\n",
    "        c+=1\n",
    "        if c<=1:\n",
    "            print('fst occurance index',i)\n",
    "    i+=1"
   ]
  },
  {
   "cell_type": "code",
   "execution_count": 10,
   "metadata": {},
   "outputs": [
    {
     "name": "stdout",
     "output_type": "stream",
     "text": [
      "bantiii\n",
      "i\n",
      "fst not occurance index 5\n",
      "fst not occurance index 6\n"
     ]
    }
   ],
   "source": [
    "#fst not occurance\n",
    "st=input()\n",
    "print(st)\n",
    "a=input()\n",
    "print(a)\n",
    "i=0\n",
    "c=0\n",
    "while i<len(st):\n",
    "    if st[i]==a:\n",
    "        c+=1\n",
    "        if c!=1:\n",
    "            print('fst not occurance index',i)\n",
    "    i+=1"
   ]
  },
  {
   "cell_type": "code",
   "execution_count": 18,
   "metadata": {},
   "outputs": [
    {
     "name": "stdout",
     "output_type": "stream",
     "text": [
      "bantiii\n",
      "i\n",
      "last not occurance 5\n",
      "last not occurance 4\n"
     ]
    }
   ],
   "source": [
    "#last not occurance\n",
    "st=input()\n",
    "print(st)\n",
    "a=input()\n",
    "print(a)\n",
    "i=len(st)-1\n",
    "c=0\n",
    "while i>=0:\n",
    "    if st[i]==a:\n",
    "        c+=1\n",
    "        if c!=1:\n",
    "            print('last not occurance',i)  \n",
    "    i-=1\n"
   ]
  },
  {
   "cell_type": "code",
   "execution_count": 26,
   "metadata": {},
   "outputs": [
    {
     "name": "stdout",
     "output_type": "stream",
     "text": [
      "bantii\n",
      "i\n",
      "banti\n"
     ]
    }
   ],
   "source": [
    "#remove fst occurance\n",
    "st=input()\n",
    "print(st)\n",
    "a=input()\n",
    "print(a)\n",
    "i=0\n",
    "c=0\n",
    "while i<len(st):\n",
    "    if st[i]==a:\n",
    "        c+=1\n",
    "        if c<=1:\n",
    "            res=st[0:i]+st[i+1:]\n",
    "    i+=1\n",
    "print(res)"
   ]
  },
  {
   "cell_type": "code",
   "execution_count": 28,
   "metadata": {},
   "outputs": [
    {
     "name": "stdout",
     "output_type": "stream",
     "text": [
      "bantii\n",
      "i\n",
      "banti\n"
     ]
    }
   ],
   "source": [
    "#last ocuurance remove\n",
    "st=input()\n",
    "print(st)\n",
    "a=input()\n",
    "print(a)\n",
    "i=len(st)-1\n",
    "c=0\n",
    "while i>0:\n",
    "    if st[i]==a:\n",
    "        c+=1\n",
    "        if c<=1:\n",
    "            print(st[0:i]+st[i+1:])\n",
    "    i-=1"
   ]
  },
  {
   "cell_type": "code",
   "execution_count": 33,
   "metadata": {},
   "outputs": [
    {
     "name": "stdout",
     "output_type": "stream",
     "text": [
      "bantiii\n",
      "i\n",
      "count of specific char 3\n"
     ]
    }
   ],
   "source": [
    "#count the occurance of specific char\n",
    "st=input()\n",
    "print(st)\n",
    "a=input()\n",
    "print(a)\n",
    "i=0\n",
    "c=0\n",
    "while i<len(st):\n",
    "    if st[i]==a:\n",
    "        c+=1\n",
    "    i+=1\n",
    "print('count of specific char',c)\n"
   ]
  },
  {
   "cell_type": "code",
   "execution_count": 34,
   "metadata": {},
   "outputs": [
    {
     "name": "stdout",
     "output_type": "stream",
     "text": [
      "hksdckjoj#54545\n",
      "9 alphabet\n",
      "5 num\n",
      "1 symbol\n"
     ]
    }
   ],
   "source": [
    "#count of alphabets ,num ,char in a str\n",
    "st=input()\n",
    "print(st)\n",
    "i=0\n",
    "c=0\n",
    "c1=0\n",
    "c2=0\n",
    "for i in st:\n",
    "    if i>='A' and i<='Z' or i>='a' and i<='z':\n",
    "        c+=1\n",
    "    elif i>='0' and i<='9':\n",
    "        c1+=1\n",
    "    else:\n",
    "        c2+=1\n",
    "print(c,\"alphabet\")\n",
    "print(c1,'num')\n",
    "print(c2,'symbol')\n"
   ]
  },
  {
   "cell_type": "code",
   "execution_count": 36,
   "metadata": {},
   "outputs": [
    {
     "name": "stdout",
     "output_type": "stream",
     "text": [
      "5\n"
     ]
    }
   ],
   "source": [
    "#no of words in a str\n",
    "st='''hi how are you praneeth'''\n",
    "c=1\n",
    "i=0\n",
    "while i < len(st)-1:\n",
    "    ch=st[i]\n",
    "    ch1=st[i+1]\n",
    "    if ch==' ' and ch1!=' ':  \n",
    "        c+=1\n",
    "    i+=1\n",
    "if (st[-1]==' '):\n",
    "    c-=1\n",
    "print(c)\n",
    "\n",
    "        "
   ]
  },
  {
   "cell_type": "code",
   "execution_count": 2,
   "metadata": {},
   "outputs": [
    {
     "name": "stdout",
     "output_type": "stream",
     "text": [
      "praneeth\n",
      "e\n"
     ]
    }
   ],
   "source": [
    "#max occurance char\n",
    "st=input()\n",
    "print(st)\n",
    "st1=st\n",
    "c=0\n",
    "maxdigit=st[0]\n",
    "i=0\n",
    "while i<len(st):\n",
    "    ch=st[i]\n",
    "    st2=st1\n",
    "    a=0\n",
    "    c1=0\n",
    "    while a<len(st2):\n",
    "        if ch==st2[a]:\n",
    "            c1+=1\n",
    "        a+=1\n",
    "    if c1>c:\n",
    "        c=c1\n",
    "        maxdigit=ch\n",
    "    i+=1\n",
    "print(maxdigit)\n",
    "        \n",
    "            "
   ]
  },
  {
   "cell_type": "code",
   "execution_count": 7,
   "metadata": {},
   "outputs": [
    {
     "name": "stdout",
     "output_type": "stream",
     "text": [
      ")*#$ $*(,44321,ooe,dlrwllh\n"
     ]
    }
   ],
   "source": [
    "#128\n",
    "a='(*12hello3$ $4#world4*)'\n",
    "b=''\n",
    "c=''\n",
    "d=''\n",
    "e=''\n",
    "for i in a:\n",
    "    if (i>='a' and i<='z') and i not in 'aeiou':\n",
    "        b+=i\n",
    "    elif (i>='a' and i<='z') and i  in 'aeiou':\n",
    "        c+=i\n",
    "    elif i>='0' and i<='9':\n",
    "        d+=i\n",
    "    else:\n",
    "        e+=i\n",
    "print(e[::-1],d[::-1],c[::-1],b[::-1],sep=',')"
   ]
  },
  {
   "cell_type": "code",
   "execution_count": 9,
   "metadata": {},
   "outputs": [
    {
     "name": "stdout",
     "output_type": "stream",
     "text": [
      "hllwrld,eoo,12344,(*$ $#*)\n"
     ]
    }
   ],
   "source": [
    "#129\n",
    "a='(*12hello3$ $4#world4*)'\n",
    "b=''\n",
    "c=''\n",
    "d=''\n",
    "e=''\n",
    "for i in a:\n",
    "    if (i>='a' and i<='z') and i not in 'aeiou':\n",
    "        b+=i\n",
    "    elif (i>='a' and i<='z') and i  in 'aeiou':\n",
    "        c+=i\n",
    "    elif i>='0' and i<='9':\n",
    "        d+=i\n",
    "    else:\n",
    "        e+=i\n",
    "print(b,c,d,e,sep=',')\n"
   ]
  },
  {
   "cell_type": "code",
   "execution_count": 12,
   "metadata": {},
   "outputs": [
    {
     "name": "stdout",
     "output_type": "stream",
     "text": [
      "hllwrld,)*#$ $*(,eoo,44321\n"
     ]
    }
   ],
   "source": [
    "#130\n",
    "a='(*12hello3$ $4#world4*)'\n",
    "b=''\n",
    "c=''\n",
    "d=''\n",
    "e=''\n",
    "for i in a:\n",
    "    if (i>='a' and i<='z') and i not in 'aeiou':\n",
    "        b+=i\n",
    "    elif (i>='a' and i<='z') and i  in 'aeiou':\n",
    "        c+=i\n",
    "    elif i>='0' and i<='9':\n",
    "        d+=i\n",
    "    else:\n",
    "        e+=i\n",
    "print(b,e[::-1],c,d[::-1],sep=',')"
   ]
  },
  {
   "cell_type": "code",
   "execution_count": 14,
   "metadata": {},
   "outputs": [
    {
     "name": "stdout",
     "output_type": "stream",
     "text": [
      ")*#$ $*(,44321,ooe,dlrwllh\n"
     ]
    }
   ],
   "source": [
    "#131\n",
    "a='(*12hello3$ $4#world4*)'\n",
    "b=''\n",
    "c=''\n",
    "d=''\n",
    "e=''\n",
    "for i in a:\n",
    "    if (i>='a' and i<='z') and i not in 'aeiou':\n",
    "        b+=i\n",
    "    elif (i>='a' and i<='z') and i  in 'aeiou':\n",
    "        c+=i\n",
    "    elif i>='0' and i<='9':\n",
    "        d+=i\n",
    "    else:\n",
    "        e+=i\n",
    "print(e[::-1],d[::-1],c[::-1],b[::-1],sep=',')"
   ]
  },
  {
   "cell_type": "code",
   "execution_count": 16,
   "metadata": {},
   "outputs": [
    {
     "name": "stdout",
     "output_type": "stream",
     "text": [
      "dlrwllh,)*#$ $*(,ooe,44321\n"
     ]
    }
   ],
   "source": [
    "#132\n",
    "a='(*12hello3$ $4#world4*)'\n",
    "b=''\n",
    "c=''\n",
    "d=''\n",
    "e=''\n",
    "for i in a:\n",
    "    if (i>='a' and i<='z') and i not in 'aeiou':\n",
    "        b+=i\n",
    "    elif (i>='a' and i<='z') and i  in 'aeiou':\n",
    "        c+=i\n",
    "    elif i>='0' and i<='9':\n",
    "        d+=i\n",
    "    else:\n",
    "        e+=i\n",
    "print(b[::-1],e[::-1],c[::-1],d[::-1],sep=',')"
   ]
  },
  {
   "cell_type": "code",
   "execution_count": 17,
   "metadata": {},
   "outputs": [
    {
     "name": "stdout",
     "output_type": "stream",
     "text": [
      "h$ll*w*rld\n"
     ]
    }
   ],
   "source": [
    "#133\n",
    "a='HELLO WORLD'\n",
    "r=''\n",
    "for i in a:\n",
    "    if (i>='A' and i<='Z') and i not in 'AEIOU':\n",
    "        i=chr(ord(i)+32)\n",
    "        r+=i\n",
    "    elif i=='E':\n",
    "        r+=\"$\"\n",
    "    elif i=='O':\n",
    "        r+='*'\n",
    "print(r)"
   ]
  },
  {
   "cell_type": "code",
   "execution_count": 18,
   "metadata": {},
   "outputs": [
    {
     "name": "stdout",
     "output_type": "stream",
     "text": [
      "hllwrld21\n"
     ]
    }
   ],
   "source": [
    "#134\n",
    "ip='123HELLO WORLD456'\n",
    "res=''\n",
    "for i in ip:\n",
    "    if i>='A' and i<='Z' and i not in \"AEIOU\" and not(i>='0' and i<='9'):\n",
    "        i=chr(ord(i)+32)\n",
    "        res+=i\n",
    "res+=ip[1]+ip[0]\n",
    "print(res)"
   ]
  },
  {
   "cell_type": "code",
   "execution_count": 24,
   "metadata": {},
   "outputs": [
    {
     "name": "stdout",
     "output_type": "stream",
     "text": [
      "123hEllO wOrld456\n"
     ]
    }
   ],
   "source": [
    "#135\n",
    "a='123HELLO WORLD456'\n",
    "r=''\n",
    "for i in a:\n",
    "    if (i>='A' and i<='Z') and (i not in \"AEIOU\") and not (i>='0' and i<='9'):\n",
    "        r+=chr(ord(i)+32)\n",
    "    elif i in 'AEIOU' or i==' ':\n",
    "        r+=i\n",
    "    elif i>='0' and i<='9' :\n",
    "        r+=i\n",
    "print(r)"
   ]
  },
  {
   "cell_type": "code",
   "execution_count": 27,
   "metadata": {},
   "outputs": [
    {
     "name": "stdout",
     "output_type": "stream",
     "text": [
      "321hEllO wOrld654\n"
     ]
    }
   ],
   "source": [
    "#136\n",
    "a='123HELLO WORLD456'\n",
    "r=''\n",
    "r1=''\n",
    "r2=''\n",
    "for i in a:\n",
    "    if (i>='A' and i<='Z') and (i not in \"AEIOU\") and not (i>='0' and i<='9'):\n",
    "        r+=chr(ord(i)+32)\n",
    "    elif i in 'AEIOU' or i==' ':\n",
    "        r+=i\n",
    "    elif i>='0' and i<='3':\n",
    "        r1+=i\n",
    "    elif i>='4' and i<='6':\n",
    "        r2+=i\n",
    "print(r1[::-1]+r+r2[::-1])"
   ]
  },
  {
   "cell_type": "code",
   "execution_count": 30,
   "metadata": {},
   "outputs": [
    {
     "name": "stdout",
     "output_type": "stream",
     "text": [
      "321*E**O *O***654\n"
     ]
    }
   ],
   "source": [
    "#137\n",
    "a='123HELLO WORLD456'\n",
    "r=''\n",
    "r1=''\n",
    "r2=''\n",
    "for i in a:\n",
    "    if (i>='A' and i<='Z') and (i not in \"AEIOU\") and not (i>='0' and i<='9'):\n",
    "        d=chr(ord(i)+32)\n",
    "        r+='*'\n",
    "    elif i in 'AEIOU' or i==' ':\n",
    "        r+=i\n",
    "    elif i>='0' and i<='3':\n",
    "        r1+=i\n",
    "    elif i>='4' and i<='6':\n",
    "        r2+=i\n",
    "print(r1[::-1]+r+r2[::-1])"
   ]
  },
  {
   "cell_type": "code",
   "execution_count": 32,
   "metadata": {},
   "outputs": [
    {
     "name": "stdout",
     "output_type": "stream",
     "text": [
      "123*E**O *O***456\n"
     ]
    }
   ],
   "source": [
    "#138\n",
    "a='123HELLO WORLD456'\n",
    "r=''\n",
    "r1=''\n",
    "r2=''\n",
    "for i in a:\n",
    "    if (i>='A' and i<='Z') and (i not in \"AEIOU\") and not (i>='0' and i<='9'):\n",
    "        d=chr(ord(i)+32)\n",
    "        r+='*'\n",
    "    elif i in 'AEIOU' or i==' ':\n",
    "        r+=i\n",
    "    elif i>='0' and i<='3':\n",
    "        r1+=i\n",
    "    elif i>='4' and i<='6':\n",
    "        r2+=i\n",
    "print(r1+r+r2)"
   ]
  },
  {
   "cell_type": "code",
   "execution_count": 33,
   "metadata": {},
   "outputs": [
    {
     "name": "stdout",
     "output_type": "stream",
     "text": [
      "h$ll*w*rld\n"
     ]
    }
   ],
   "source": [
    "#139\n",
    "ip='HELLOWORLD'\n",
    "res=''\n",
    "for i in ip:\n",
    "    if i>='A' and i<='Z' and i not in \"AEIOU\":\n",
    "        i=chr(ord(i)+32)\n",
    "        res+=i\n",
    "    elif i=='E':\n",
    "        res+=\"$\"\n",
    "    elif i=='O':\n",
    "        res+=\"*\"    \n",
    "print(res)    "
   ]
  },
  {
   "cell_type": "code",
   "execution_count": 38,
   "metadata": {},
   "outputs": [
    {
     "name": "stdout",
     "output_type": "stream",
     "text": [
      "axbycz\n"
     ]
    }
   ],
   "source": [
    "#140\n",
    "ip1=\"abc\"\n",
    "ip2='xyz'\n",
    "r=''\n",
    "i=0\n",
    "while i<len(ip1):\n",
    "    r+=ip1[i]+ip2[i]\n",
    "    i+=1\n",
    "print(r)"
   ]
  },
  {
   "cell_type": "code",
   "execution_count": 4,
   "metadata": {},
   "outputs": [
    {
     "name": "stdout",
     "output_type": "stream",
     "text": [
      "axbyczw\n"
     ]
    }
   ],
   "source": [
    "#141\n",
    "a='abc'\n",
    "b='xyzw'\n",
    "i=0\n",
    "r=''\n",
    "while i<len(a) or i<len(b):\n",
    "    if i<len(a):\n",
    "        r+=a[i]\n",
    "    if i<len(b):\n",
    "        r+=b[i]\n",
    "    i+=1    \n",
    "print(r)"
   ]
  },
  {
   "cell_type": "code",
   "execution_count": 6,
   "metadata": {},
   "outputs": [
    {
     "name": "stdout",
     "output_type": "stream",
     "text": [
      "axbyczd\n"
     ]
    }
   ],
   "source": [
    "#142\n",
    "a='abcd'\n",
    "b='xyz'\n",
    "i=0\n",
    "r=''\n",
    "while i<len(a) or i<len(b):\n",
    "    if i<len(a):\n",
    "        r+=a[i]\n",
    "    if i<len(b):\n",
    "        r+=b[i]\n",
    "    i+=1    \n",
    "print(r)"
   ]
  },
  {
   "cell_type": "code",
   "execution_count": 8,
   "metadata": {},
   "outputs": [
    {
     "name": "stdout",
     "output_type": "stream",
     "text": [
      "axbyczdwop\n"
     ]
    }
   ],
   "source": [
    "a='abcd'\n",
    "b='xyzwop'\n",
    "i=0\n",
    "r=''\n",
    "while i<len(a) or i<len(b):\n",
    "    if i<len(a):\n",
    "        r+=a[i]\n",
    "    if i<len(b):\n",
    "        r+=b[i]\n",
    "    i+=1    \n",
    "print(r)"
   ]
  },
  {
   "cell_type": "code",
   "execution_count": 10,
   "metadata": {},
   "outputs": [
    {
     "name": "stdout",
     "output_type": "stream",
     "text": [
      "abc\n",
      "123\n",
      "a1b2c3\n"
     ]
    }
   ],
   "source": [
    "#144\n",
    "ip='abc123'\n",
    "ip1=''\n",
    "ip2=''\n",
    "for i in ip:\n",
    "    if i>='a' and i<='z':\n",
    "        ip1+=i\n",
    "    elif i>='0' and i<='9':\n",
    "        ip2+=i\n",
    "res=''\n",
    "i=0\n",
    "while i<len(ip1) or i<len(ip2):\n",
    "    if i<len(ip1):\n",
    "        res+=ip1[i]\n",
    "    if i<len(ip2):\n",
    "        res+=ip2[i]\n",
    "    i+=1\n",
    "print(ip1)\n",
    "print(ip2)\n",
    "print(res)"
   ]
  },
  {
   "cell_type": "code",
   "execution_count": 11,
   "metadata": {},
   "outputs": [
    {
     "name": "stdout",
     "output_type": "stream",
     "text": [
      "a1b2c\n"
     ]
    }
   ],
   "source": [
    "#145\n",
    "ip='abc12'\n",
    "ip1=''\n",
    "ip2=''\n",
    "for i in ip:\n",
    "    if i>='a' and i<='z':\n",
    "        ip1+=i\n",
    "    elif i>='0' and i<='9':\n",
    "        ip2+=i\n",
    "res=''\n",
    "i=0\n",
    "while i<len(ip1) or i<len(ip2):\n",
    "    if i<len(ip1):\n",
    "        res+=ip1[i]\n",
    "    if i<len(ip2):\n",
    "        res+=ip2[i]\n",
    "    i+=1\n",
    "\n",
    "print(res)"
   ]
  },
  {
   "cell_type": "code",
   "execution_count": 13,
   "metadata": {},
   "outputs": [
    {
     "name": "stdout",
     "output_type": "stream",
     "text": [
      "abc\n",
      "1234\n",
      "a1b2c34\n"
     ]
    }
   ],
   "source": [
    "#146\n",
    "ip='abc1234'\n",
    "ip1=''\n",
    "ip2=''\n",
    "for i in ip:\n",
    "    if i>='a' and i<='z':\n",
    "        ip1+=i\n",
    "    elif i>='0' and i<='9':\n",
    "        ip2+=i\n",
    "res=''\n",
    "i=0\n",
    "while i<len(ip1) or i<len(ip2):\n",
    "    if i<len(ip1):\n",
    "        res+=ip1[i]\n",
    "    if i<len(ip2):\n",
    "        res+=ip2[i]\n",
    "    i+=1\n",
    "print(ip1)\n",
    "print(ip2)\n",
    "print(res)"
   ]
  },
  {
   "cell_type": "code",
   "execution_count": 2,
   "metadata": {},
   "outputs": [
    {
     "name": "stdout",
     "output_type": "stream",
     "text": [
      "a1b2c34\n"
     ]
    }
   ],
   "source": [
    "#147\n",
    "ip='1a2bc34'\n",
    "ip1=''\n",
    "ip2=''\n",
    "for i in ip:\n",
    "    if i>='a' and i<='z':\n",
    "        ip1+=i\n",
    "    elif i>='0' and i<='9':\n",
    "        ip2+=i\n",
    "res=''\n",
    "i=0\n",
    "while i<len(ip1) or i<len(ip2):\n",
    "    if i<len(ip1):\n",
    "        res+=ip1[i]\n",
    "    if i<len(ip2):\n",
    "        res+=ip2[i]\n",
    "    i+=1\n",
    "\n",
    "print(res)"
   ]
  },
  {
   "cell_type": "code",
   "execution_count": 3,
   "metadata": {},
   "outputs": [
    {
     "name": "stdout",
     "output_type": "stream",
     "text": [
      "3\n"
     ]
    }
   ],
   "source": [
    "#148\n",
    "ip='abcdnmpoijkl12yzabcd5'\n",
    "c=0\n",
    "for i in ip:\n",
    "    if i>='0' and i<='9':\n",
    "        c+=1\n",
    "print(c)"
   ]
  },
  {
   "cell_type": "code",
   "execution_count": 4,
   "metadata": {},
   "outputs": [
    {
     "name": "stdout",
     "output_type": "stream",
     "text": [
      "HA1I2I3 HE4LLO5\n"
     ]
    }
   ],
   "source": [
    "#149\n",
    "ip='HAII HELLO'\n",
    "res=''\n",
    "c=0\n",
    "for i in ip:\n",
    "    if i in 'AEIOU':\n",
    "        c+=1\n",
    "        res+=i+str(c)\n",
    "    else:\n",
    "        res+=i\n",
    "print(res)"
   ]
  },
  {
   "cell_type": "code",
   "execution_count": 5,
   "metadata": {},
   "outputs": [
    {
     "name": "stdout",
     "output_type": "stream",
     "text": [
      "H1AII 2H3EL4L5O\n"
     ]
    }
   ],
   "source": [
    "#150\n",
    "ip='HAII HELLO'\n",
    "res=''\n",
    "c=0\n",
    "for i in ip:\n",
    "    if i not in 'AEIOU':\n",
    "        c+=1\n",
    "        res+=i+str(c)\n",
    "    else:\n",
    "        res+=i\n",
    "print(res)"
   ]
  }
 ],
 "metadata": {
  "kernelspec": {
   "display_name": "Python 3",
   "language": "python",
   "name": "python3"
  },
  "language_info": {
   "codemirror_mode": {
    "name": "ipython",
    "version": 3
   },
   "file_extension": ".py",
   "mimetype": "text/x-python",
   "name": "python",
   "nbconvert_exporter": "python",
   "pygments_lexer": "ipython3",
   "version": "3.12.2"
  }
 },
 "nbformat": 4,
 "nbformat_minor": 2
}
