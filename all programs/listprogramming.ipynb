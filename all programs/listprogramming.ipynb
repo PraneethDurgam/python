{
 "cells": [
  {
   "cell_type": "code",
   "execution_count": 1,
   "metadata": {},
   "outputs": [
    {
     "name": "stdout",
     "output_type": "stream",
     "text": [
      "1\n",
      "2\n",
      "36\n",
      "4\n",
      "4\n",
      "5\n"
     ]
    }
   ],
   "source": [
    "a=[1,2,36,4,4,5]\n",
    "for i in a:\n",
    "    print(i)"
   ]
  },
  {
   "cell_type": "code",
   "execution_count": 3,
   "metadata": {},
   "outputs": [
    {
     "name": "stdout",
     "output_type": "stream",
     "text": [
      "[4, 5, 6, 1, 2, 3]\n"
     ]
    }
   ],
   "source": [
    "a=[1,2,3]\n",
    "b=[4,5,6]\n",
    "i=0\n",
    "while i<len(a):\n",
    "    b+=[a[i]]\n",
    "    i+=1\n",
    "print(b)"
   ]
  },
  {
   "cell_type": "code",
   "execution_count": 4,
   "metadata": {},
   "outputs": [
    {
     "name": "stdout",
     "output_type": "stream",
     "text": [
      "23\n",
      "840\n"
     ]
    }
   ],
   "source": [
    "#arthemetic operations\n",
    "a=[1,4,5,6,7]\n",
    "s=0\n",
    "p=1\n",
    "for i in a:\n",
    "    s+=i\n",
    "    p*=i\n",
    "print(s)\n",
    "print(p)"
   ]
  },
  {
   "cell_type": "code",
   "execution_count": 9,
   "metadata": {},
   "outputs": [
    {
     "name": "stdout",
     "output_type": "stream",
     "text": [
      "empty\n"
     ]
    }
   ],
   "source": [
    "#empty list or not\n",
    "a=[]\n",
    "c=0\n",
    "for i in a:\n",
    "    c+=1\n",
    "if c==0:\n",
    "    print('empty')\n",
    "else:\n",
    "    print(a)"
   ]
  },
  {
   "cell_type": "code",
   "execution_count": 11,
   "metadata": {},
   "outputs": [
    {
     "name": "stdout",
     "output_type": "stream",
     "text": [
      "[1, 4, 45, 84]\n"
     ]
    }
   ],
   "source": [
    "#clone\n",
    "a=[1,4,45,84]\n",
    "b=[]\n",
    "for i in a:\n",
    "    b+=[i]\n",
    "print(b)"
   ]
  },
  {
   "cell_type": "code",
   "execution_count": 12,
   "metadata": {},
   "outputs": [
    {
     "name": "stdout",
     "output_type": "stream",
     "text": [
      "4 evennumbers\n",
      "4 oddnumbers\n"
     ]
    }
   ],
   "source": [
    "#count even and odd\n",
    "a=[1,454,4,6,2,5,17,13]\n",
    "c=0\n",
    "d=0\n",
    "for i in a:\n",
    "    if i%2==0:\n",
    "        c+=1\n",
    "    else:\n",
    "        d+=1\n",
    "print(c,'evennumbers')\n",
    "print(d,'oddnumbers')"
   ]
  },
  {
   "cell_type": "code",
   "execution_count": 13,
   "metadata": {},
   "outputs": [
    {
     "name": "stdout",
     "output_type": "stream",
     "text": [
      "6 positve\n",
      "4 negitive\n"
     ]
    }
   ],
   "source": [
    "#count positive and negitive\n",
    "a=[-1,-2,-7,2,8,1,5,58,6,-65]\n",
    "p=0\n",
    "n=0\n",
    "for i in a:\n",
    "    if i>0:\n",
    "        p+=1\n",
    "    else:\n",
    "        n+=1\n",
    "print(p,'positve')\n",
    "print(n,'negitive')"
   ]
  },
  {
   "cell_type": "code",
   "execution_count": 15,
   "metadata": {},
   "outputs": [
    {
     "name": "stdout",
     "output_type": "stream",
     "text": [
      "78\n"
     ]
    }
   ],
   "source": [
    "#largest\n",
    "a=[1,4,45,78]\n",
    "c=a[0]\n",
    "for i in a:\n",
    "    if i>c:\n",
    "        c=i\n",
    "print(c)"
   ]
  },
  {
   "cell_type": "code",
   "execution_count": 22,
   "metadata": {},
   "outputs": [
    {
     "name": "stdout",
     "output_type": "stream",
     "text": [
      "295\n",
      "-85\n"
     ]
    }
   ],
   "source": [
    "#largest and smallest\n",
    "a=[1,4,85,-85,295]\n",
    "for i in a:\n",
    "    if i>a[0]:\n",
    "        b=i\n",
    "    elif i<a[0]:\n",
    "        c=i\n",
    "print(b)\n",
    "print(c)\n"
   ]
  },
  {
   "cell_type": "code",
   "execution_count": 24,
   "metadata": {},
   "outputs": [
    {
     "name": "stdout",
     "output_type": "stream",
     "text": [
      "7\n"
     ]
    }
   ],
   "source": [
    "#length \n",
    "a=[4,5,8,45,8584,5,545]\n",
    "c=0\n",
    "for i in a:\n",
    "    c+=1\n",
    "print(c)"
   ]
  },
  {
   "cell_type": "code",
   "execution_count": 30,
   "metadata": {},
   "outputs": [
    {
     "name": "stdout",
     "output_type": "stream",
     "text": [
      "[1, 4, 5, 2, 8, 9, 14]\n"
     ]
    }
   ],
   "source": [
    "#remove duplicate\n",
    "a=[1,4,5,1,4,2,8,9,14]\n",
    "b=[]\n",
    "for i in a:\n",
    "    if i not in b:\n",
    "        b+=[i]\n",
    "print(b)"
   ]
  },
  {
   "cell_type": "code",
   "execution_count": 34,
   "metadata": {},
   "outputs": [
    {
     "name": "stdout",
     "output_type": "stream",
     "text": [
      "[1, 7, 9, 5]\n"
     ]
    }
   ],
   "source": [
    "#remove even\n",
    "a=[1,4,7,8,9,4,5]\n",
    "l=[]\n",
    "for i in a:\n",
    "    if i not in l and i%2==1:\n",
    "            l+=[i]\n",
    "print(l)"
   ]
  },
  {
   "cell_type": "code",
   "execution_count": 35,
   "metadata": {},
   "outputs": [
    {
     "name": "stdout",
     "output_type": "stream",
     "text": [
      "[10, 9, 8, 7, 5, 4]\n"
     ]
    }
   ],
   "source": [
    "#reverse a list\n",
    "a=[4,5,7,8,9,10]\n",
    "r=[]\n",
    "i=len(a)-1\n",
    "while i>=0:\n",
    "    r+=[a[i]]\n",
    "    i-=1\n",
    "print(r)"
   ]
  },
  {
   "cell_type": "code",
   "execution_count": 47,
   "metadata": {},
   "outputs": [
    {
     "name": "stdout",
     "output_type": "stream",
     "text": [
      "1\n"
     ]
    }
   ],
   "source": [
    "#second largest\n",
    "a=[1,5,45,42,-5]\n",
    "max1=a[0]\n",
    "max2=None\n",
    "i=0\n",
    "while i<len(a):\n",
    "    e=a[i]\n",
    "    if i>max1:\n",
    "        max2=max1\n",
    "        max1=e\n",
    "    i+=1\n",
    "print(max2)"
   ]
  }
 ],
 "metadata": {
  "kernelspec": {
   "display_name": "Python 3",
   "language": "python",
   "name": "python3"
  },
  "language_info": {
   "codemirror_mode": {
    "name": "ipython",
    "version": 3
   },
   "file_extension": ".py",
   "mimetype": "text/x-python",
   "name": "python",
   "nbconvert_exporter": "python",
   "pygments_lexer": "ipython3",
   "version": "3.12.4"
  }
 },
 "nbformat": 4,
 "nbformat_minor": 2
}
