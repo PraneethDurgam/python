{
 "cells": [
  {
   "cell_type": "code",
   "execution_count": 1,
   "metadata": {},
   "outputs": [
    {
     "name": "stdout",
     "output_type": "stream",
     "text": [
      "One\n"
     ]
    }
   ],
   "source": [
    "#take user input and convert to word-7\n",
    "number=int(input())\n",
    "if number == 1:\n",
    "        print (\"One\")\n",
    "elif number == 2:\n",
    "        print (\"Two\")\n",
    "elif number == 3:\n",
    "        print(\"Three\")\n",
    "elif number == 4:\n",
    "        print (\"Four\")\n",
    "elif number == 5:\n",
    "        print( \"Five\")\n",
    "else:\n",
    "        print( \"Number out of range\")"
   ]
  },
  {
   "cell_type": "code",
   "execution_count": null,
   "metadata": {},
   "outputs": [
    {
     "name": "stdout",
     "output_type": "stream",
     "text": [
      "The number is Negative\n"
     ]
    }
   ],
   "source": [
    "#cw given value is positive negative or netural-1\n",
    "a=int(input(\"Enter a number:\"))\n",
    "if a>0:\n",
    "    print(\"The number is Positive\")\n",
    "elif a<0:\n",
    "    print(\"The number is Negative\")\n",
    "else:\n",
    "    print('neutral')\n"
   ]
  },
  {
   "cell_type": "code",
   "execution_count": null,
   "metadata": {},
   "outputs": [
    {
     "name": "stdout",
     "output_type": "stream",
     "text": [
      "The greatest number is c 6\n"
     ]
    }
   ],
   "source": [
    "#2.greatest of 3 numbers\n",
    "a=int(input())\n",
    "b=int(input())\n",
    "c=int(input())\n",
    "if (a>b and  a>c): \n",
    "    print(\"The greatest number is a\",a)\n",
    "elif (b>a and b>c):\n",
    "    print(\"The greatest number is b\",b)  \n",
    "else:\n",
    "    print( \"The greatest number is c\", c)    \n"
   ]
  },
  {
   "cell_type": "code",
   "execution_count": null,
   "metadata": {},
   "outputs": [
    {
     "name": "stdout",
     "output_type": "stream",
     "text": [
      "fizzbuzz\n"
     ]
    }
   ],
   "source": [
    "#3.num divisible by 3 and 5\n",
    "a=int(input())\n",
    "if (a%3==0 and a%5==0):\n",
    "    print('fizzbuzz')\n",
    "elif  (a%3==0):\n",
    "    print('fizz')\n",
    "elif (a%5==0):  \n",
    "    print('buzz')\n",
    "else:\n",
    "    print(a)\n"
   ]
  },
  {
   "cell_type": "code",
   "execution_count": null,
   "metadata": {},
   "outputs": [
    {
     "name": "stdout",
     "output_type": "stream",
     "text": [
      "The number has  more than 3 digits\n",
      "454656\n"
     ]
    }
   ],
   "source": [
    "#5-number is 1 digit or 2 or 3 or more\n",
    "a=int(input())\n",
    "if a>=0 and a<=9:\n",
    "    print(\"The number is one digit\")\n",
    "elif a>=10 and a<=99:\n",
    "    print(\"The number has two digits\")\n",
    "elif  a>=100 and a<=999:\n",
    "    print(\"The number has three digits\")\n",
    "else:\n",
    "    print(\"The number has  more than 3 digits\")\n",
    "print(a)\n"
   ]
  },
  {
   "cell_type": "code",
   "execution_count": null,
   "metadata": {},
   "outputs": [
    {
     "name": "stdout",
     "output_type": "stream",
     "text": [
      "symbol .\n"
     ]
    }
   ],
   "source": [
    "#8-input is UC LC NUMBER OR SYMBOL\n",
    "a=input()\n",
    "if (a>='A' and a<='Z'):\n",
    "    print('uppercase',a)\n",
    "elif (a>='a' and a<='z'):\n",
    "    print('lowercase',a)\n",
    "elif (a>='0' and a<='9'):\n",
    "    print('number',a)\n",
    "else:\n",
    "    print('symbol',a)\n",
    "\n"
   ]
  },
  {
   "cell_type": "code",
   "execution_count": 2,
   "metadata": {},
   "outputs": [
    {
     "name": "stdout",
     "output_type": "stream",
     "text": [
      "4\n",
      "6\n",
      "b is greater than a\n"
     ]
    }
   ],
   "source": [
    "#4\n",
    "a=int(input())\n",
    "b=int(input())\n",
    "print(a)\n",
    "print(b)\n",
    "if a>b or b<a:\n",
    "    print('a  is greater than b')\n",
    "elif a==b:\n",
    "    print('a and b are equal')\n",
    "else:\n",
    "    print('b is greater than a')"
   ]
  },
  {
   "cell_type": "code",
   "execution_count": 9,
   "metadata": {},
   "outputs": [
    {
     "name": "stdout",
     "output_type": "stream",
     "text": [
      "special symbol $\n"
     ]
    }
   ],
   "source": [
    "#6\n",
    "n=input()\n",
    "if (n>='A' and  n<='Z') or   (n>='a' and n<='z'):\n",
    "    print('alphabet',n)\n",
    "elif n>='0' and n<='9':\n",
    "    print('the ascii number',ord(n))\n",
    "elif not((n>='A' and  n<='Z') or (n>='a' and n<='z')  or (n>='0' and n<='9')):\n",
    "    print(\"special symbol\",n)\n",
    "else:\n",
    "    print('invalid')"
   ]
  },
  {
   "cell_type": "code",
   "execution_count": 15,
   "metadata": {},
   "outputs": [
    {
     "name": "stdout",
     "output_type": "stream",
     "text": [
      "\"\n",
      "$\n"
     ]
    }
   ],
   "source": [
    "#9\n",
    "a=input()\n",
    "if a>='A' and a<='Z':\n",
    "    ch=ord(a)+32\n",
    "    print(chr(a))\n",
    "elif a>='a' and a<='z':\n",
    "    ch=ord(a)-32\n",
    "    print(chr(ch))\n",
    "elif not((n>='A' and  n<='Z') or (n>='a' and n<='z')  or (n>='0' and n<='9')):\n",
    "    b=ord(a)-1\n",
    "    print(chr(b))\n",
    "    d=ord(a)+1\n",
    "    print(chr(d))"
   ]
  },
  {
   "cell_type": "code",
   "execution_count": 19,
   "metadata": {},
   "outputs": [
    {
     "name": "stdout",
     "output_type": "stream",
     "text": [
      "third grade\n"
     ]
    }
   ],
   "source": [
    "#11\n",
    "a=float(input())\n",
    "if a>=91:\n",
    "    print('first grade')\n",
    "elif  81<=a<=90:\n",
    "    print('second grade')\n",
    "elif  71<=a<=80:\n",
    "    print('third grade')\n",
    "else:\n",
    "    print('fail')"
   ]
  },
  {
   "cell_type": "code",
   "execution_count": 20,
   "metadata": {},
   "outputs": [
    {
     "name": "stdout",
     "output_type": "stream",
     "text": [
      "47\n"
     ]
    }
   ],
   "source": [
    "#12\n",
    "a=int(input())\n",
    "b=int(input())\n",
    "c=int(input())\n",
    "if c==1:\n",
    "    print(a+b)\n",
    "elif c==2:\n",
    "    print(a-b)\n",
    "elif c==3:\n",
    "    print(a*b)\n",
    "elif c==4:\n",
    "    print(a//b)\n",
    "elif c==5:\n",
    "    print(a/b)\n",
    "elif c==6:\n",
    "    print(a%b)\n",
    "else:\n",
    "    print(a**b)\n"
   ]
  },
  {
   "cell_type": "code",
   "execution_count": 37,
   "metadata": {},
   "outputs": [
    {
     "name": "stdout",
     "output_type": "stream",
     "text": [
      "{'7': 55}\n"
     ]
    }
   ],
   "source": [
    "#14\n",
    "a='dhoni'\n",
    "b=input()\n",
    "if type(a)==list:\n",
    "    mid=len(a)//2\n",
    "    mid1=a[mid]\n",
    "    new=a[:mid1]+[b]+a[mid1:]\n",
    "    print(new)\n",
    "elif type(a)==tuple:\n",
    "    new=(b)+a[0:]\n",
    "    print(new)\n",
    "elif type(a)==set:\n",
    "    a.add(b)\n",
    "    print(a)\n",
    "else:\n",
    "    d={b:ord(b)}\n",
    "    print(d)\n"
   ]
  },
  {
   "cell_type": "code",
   "execution_count": 45,
   "metadata": {},
   "outputs": [
    {
     "name": "stdout",
     "output_type": "stream",
     "text": [
      "[1, 2, 3]\n"
     ]
    }
   ],
   "source": [
    "#15\n",
    "a={1,2,3}\n",
    "if type(a)==int:\n",
    "    print(a/5)\n",
    "elif type(a)==float:\n",
    "    print(a | 15)\n",
    "elif type(a)==str:\n",
    "    b=a[-1]+a[0:-1]\n",
    "    print(b)\n",
    "else:\n",
    "    b=list(a)\n",
    "    print(b)"
   ]
  },
  {
   "cell_type": "code",
   "execution_count": 48,
   "metadata": {},
   "outputs": [
    {
     "name": "stdout",
     "output_type": "stream",
     "text": [
      "51\n",
      "3\n"
     ]
    }
   ],
   "source": [
    "#16\n",
    "ch=input()\n",
    "if  ch>='A'and  ch<='Z':\n",
    "    a=ord(ch)+32\n",
    "    b=a+1\n",
    "    print(chr(a)+chr(b))\n",
    "elif  ch>='0' and ch<='9':\n",
    "    a=ord(ch)-6\n",
    "    print(a)\n",
    "    print(chr(a))\n",
    "else:\n",
    "    print('invalid')"
   ]
  },
  {
   "cell_type": "code",
   "execution_count": 52,
   "metadata": {},
   "outputs": [
    {
     "name": "stdout",
     "output_type": "stream",
     "text": [
      "131.88\n"
     ]
    }
   ],
   "source": [
    "#17\n",
    "a=int(input())\n",
    "if a%2==0:\n",
    "    if a%4==0:\n",
    "        print(a*2)\n",
    "elif a%3==0 and a%7==0:\n",
    "        print(3.14*a*2)\n"
   ]
  },
  {
   "cell_type": "code",
   "execution_count": null,
   "metadata": {},
   "outputs": [],
   "source": [
    "#18\n",
    "i=input()\n",
    "a='abcdefghijklmnopqrstuvwxyzABCDEFGHIJKLMNOPQRSTUVWXYZ'\n",
    "if i in a:\n",
    "    if i>='A' and  i<='Z':\n",
    "        b=ord(a)+32\n",
    "        print(chr(b))\n",
    "    elif i>='a'  and i<= 'z':\n",
    "        b=ord(i)-32\n",
    "        print(chr(b))\n",
    "else:\n",
    "    print('invalid')"
   ]
  },
  {
   "cell_type": "code",
   "execution_count": null,
   "metadata": {},
   "outputs": [],
   "source": [
    "a=input()\n"
   ]
  }
 ],
 "metadata": {
  "kernelspec": {
   "display_name": "Python 3",
   "language": "python",
   "name": "python3"
  },
  "language_info": {
   "codemirror_mode": {
    "name": "ipython",
    "version": 3
   },
   "file_extension": ".py",
   "mimetype": "text/x-python",
   "name": "python",
   "nbconvert_exporter": "python",
   "pygments_lexer": "ipython3",
   "version": "3.12.2"
  }
 },
 "nbformat": 4,
 "nbformat_minor": 2
}
