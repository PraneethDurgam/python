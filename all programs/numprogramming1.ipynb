{
 "cells": [
  {
   "cell_type": "code",
   "execution_count": null,
   "metadata": {},
   "outputs": [
    {
     "name": "stdout",
     "output_type": "stream",
     "text": [
      "145\n",
      "541\n"
     ]
    }
   ],
   "source": [
    "#reverse a number-1\n",
    "a=int(input())\n",
    "print(a)\n",
    "n=0\n",
    "while a>0:\n",
    "    d=a%10\n",
    "    n=n*10+d\n",
    "    a//=10\n",
    "print(n)\n",
    "    "
   ]
  },
  {
   "cell_type": "code",
   "execution_count": null,
   "metadata": {},
   "outputs": [
    {
     "name": "stdout",
     "output_type": "stream",
     "text": [
      "145\n",
      "peterson number\n"
     ]
    }
   ],
   "source": [
    "#peterson  number-4-sum of the factorials of its individual digits is equal to the number itself.\n",
    "n=int(input())\n",
    "print(n)\n",
    "n1=n\n",
    "s=0\n",
    "while n>0:\n",
    "    d=n%10\n",
    "    f=1\n",
    "    i=1\n",
    "    while (i<=d):\n",
    "        f=f*i\n",
    "        i+=1\n",
    "    s=s+f\n",
    "    n=n//10\n",
    "if(s==n1):\n",
    "    print('peterson number')\n",
    "else:\n",
    "    print('not')"
   ]
  },
  {
   "cell_type": "code",
   "execution_count": null,
   "metadata": {},
   "outputs": [
    {
     "name": "stdout",
     "output_type": "stream",
     "text": [
      "154547\n",
      "buzz number\n"
     ]
    }
   ],
   "source": [
    "#buzz number last digit 7 or divisible by 7\n",
    "n=int(input())\n",
    "print(n)\n",
    "n1=n\n",
    "c=0\n",
    "while n>0:\n",
    "    c+=1\n",
    "    if c<=1:\n",
    "        d=n%10\n",
    "    n//=10\n",
    "if n1%7==0 or d==7:\n",
    "    print('buzz number')\n",
    "else:\n",
    "    print('not')"
   ]
  },
  {
   "cell_type": "code",
   "execution_count": null,
   "metadata": {},
   "outputs": [
    {
     "name": "stdout",
     "output_type": "stream",
     "text": [
      "625\n",
      "390625\n",
      "automorphic\n"
     ]
    }
   ],
   "source": [
    "#automorphic - an intrger whose square ends with same integer itsel\n",
    "n=int(input())\n",
    "n1=n**2\n",
    "print(n)\n",
    "print(n1)\n",
    "a=n\n",
    "c=0\n",
    "while n>0:\n",
    "    c+=1\n",
    "    n//=10\n",
    "d=10**(c)\n",
    "n2=n1%d\n",
    "if a==n2:\n",
    "    print('automorphic')\n",
    "else:\n",
    "    print('not')"
   ]
  },
  {
   "cell_type": "code",
   "execution_count": null,
   "metadata": {},
   "outputs": [
    {
     "name": "stdout",
     "output_type": "stream",
     "text": [
      "4\n",
      "2\n",
      "20\n",
      "25\n",
      "45\n",
      "2025\n",
      "tech number\n"
     ]
    }
   ],
   "source": [
    "#tech-\n",
    "n=int(input())\n",
    "n1=n\n",
    "n2=n\n",
    "c=0\n",
    "while n>0:\n",
    "    c+=1\n",
    "    n//=10\n",
    "print(c)\n",
    "if c%2==0:\n",
    "    mid=c//2\n",
    "    print(mid)\n",
    "    a=n2//10**mid\n",
    "    print(a)\n",
    "    b=n2%10**mid\n",
    "    print(b)\n",
    "    c=a+b\n",
    "    print(c)\n",
    "    d=c**2\n",
    "    print(d)\n",
    "    if d==n1:\n",
    "        print('tech number')\n",
    "    else:\n",
    "        print('not')"
   ]
  },
  {
   "cell_type": "code",
   "execution_count": 53,
   "metadata": {},
   "outputs": [
    {
     "name": "stdout",
     "output_type": "stream",
     "text": [
      "Fasc\n"
     ]
    }
   ],
   "source": [
    "a=321654987\n",
    "c=0\n",
    "num=a%10\n",
    "flag1=True\n",
    "while a>0:\n",
    "    digit=a%10\n",
    "    n1=num\n",
    "    flag=True\n",
    "    c+=1\n",
    "    while n1!=0  and c>=2:\n",
    "        digit1=n1%10\n",
    "        if digit==digit1:\n",
    "            flag=False\n",
    "            flag1=False\n",
    "        n1//=10\n",
    "    if flag:\n",
    "        num=num*10+digit\n",
    "        \n",
    "    a//=10\n",
    "if flag1:\n",
    "    print(\"Fasc\")\n",
    "else:\n",
    "    print(\"Not fasc\")\n",
    "    \n",
    "            "
   ]
  },
  {
   "cell_type": "code",
   "execution_count": 2,
   "metadata": {},
   "outputs": [
    {
     "name": "stdout",
     "output_type": "stream",
     "text": [
      "13\n"
     ]
    }
   ],
   "source": [
    "l=[1,2,5,7,9,12]\n",
    "i=1\n",
    "while i<len(l):\n",
    "    g=l[0]\n",
    "    a=l[0]  \n",
    "    e=l[i]\n",
    "    if e<g:\n",
    "        g=e\n",
    "    if e>a:\n",
    "        a=e\n",
    "    i+=1\n",
    "print(g+a)"
   ]
  }
 ],
 "metadata": {
  "kernelspec": {
   "display_name": "Python 3",
   "language": "python",
   "name": "python3"
  },
  "language_info": {
   "codemirror_mode": {
    "name": "ipython",
    "version": 3
   },
   "file_extension": ".py",
   "mimetype": "text/x-python",
   "name": "python",
   "nbconvert_exporter": "python",
   "pygments_lexer": "ipython3",
   "version": "3.12.2"
  }
 },
 "nbformat": 4,
 "nbformat_minor": 2
}
