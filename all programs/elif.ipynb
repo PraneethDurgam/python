{
 "cells": [
  {
   "cell_type": "code",
   "execution_count": 7,
   "metadata": {},
   "outputs": [
    {
     "name": "stdout",
     "output_type": "stream",
     "text": [
      "odd\n"
     ]
    }
   ],
   "source": [
    "st=input()\n",
    "s=len(st)\n",
    "if s%2==0:\n",
    "    print('even')\n",
    "else:\n",
    "    print('odd')"
   ]
  },
  {
   "cell_type": "code",
   "execution_count": 20,
   "metadata": {},
   "outputs": [
    {
     "name": "stdout",
     "output_type": "stream",
     "text": [
      "positive\n"
     ]
    }
   ],
   "source": [
    "li=[1,2,5,4,7]\n",
    "mid=len(li)//2\n",
    "mid1=li[mid]\n",
    "if mid1>0:\n",
    "    print('positive')\n",
    "elif mid1==0:\n",
    "    print('zero')\n",
    "else:\n",
    "    print('negative')"
   ]
  },
  {
   "cell_type": "code",
   "execution_count": 27,
   "metadata": {},
   "outputs": [
    {
     "name": "stdout",
     "output_type": "stream",
     "text": [
      "d\n"
     ]
    }
   ],
   "source": [
    "ch=input()\n",
    "if ch>='A'and ch<='Z':\n",
    "    print(chr(ord(ch)+32))\n",
    "else:\n",
    "    print(ord(ch))"
   ]
  },
  {
   "cell_type": "code",
   "execution_count": 30,
   "metadata": {},
   "outputs": [
    {
     "name": "stdout",
     "output_type": "stream",
     "text": [
      "negitive\n"
     ]
    }
   ],
   "source": [
    "num=int(input())\n",
    "if num>0:\n",
    "    print('positive')\n",
    "elif num<0:\n",
    "    print('negitive')\n",
    "else:\n",
    "    print('zero')"
   ]
  },
  {
   "cell_type": "code",
   "execution_count": 34,
   "metadata": {},
   "outputs": [
    {
     "name": "stdout",
     "output_type": "stream",
     "text": [
      "odd\n"
     ]
    }
   ],
   "source": [
    "num=int(input())\n",
    "if num==0:\n",
    "    print('zero')\n",
    "elif num%2==0:\n",
    "    print('even')\n",
    "else:\n",
    "    print('odd')"
   ]
  },
  {
   "cell_type": "code",
   "execution_count": 40,
   "metadata": {},
   "outputs": [
    {
     "name": "stdout",
     "output_type": "stream",
     "text": [
      "UPPERCASE\n"
     ]
    }
   ],
   "source": [
    "ch=input()\n",
    "if ch>='A' and ch<='Z':\n",
    "    print('UPPERCASE')\n",
    "elif ch>='a' and ch<='z':\n",
    "    print('LOWERCASES')"
   ]
  },
  {
   "cell_type": "code",
   "execution_count": 57,
   "metadata": {},
   "outputs": [
    {
     "name": "stdout",
     "output_type": "stream",
     "text": [
      "symbol\n"
     ]
    }
   ],
   "source": [
    "CH=input()\n",
    "if (CH>='A' and CH<='Z') or (CH>='a' and CH<='z'):\n",
    "    print('alphabet')\n",
    "elif (CH>='0' and CH<='9'):\n",
    "    print('digit')\n",
    "else:\n",
    "    print('symbol')\n",
    "    "
   ]
  },
  {
   "cell_type": "code",
   "execution_count": 62,
   "metadata": {},
   "outputs": [
    {
     "name": "stdout",
     "output_type": "stream",
     "text": [
      "a\n",
      "LOWERCASE\n"
     ]
    }
   ],
   "source": [
    "\n",
    "ch=input()\n",
    "print(ch)\n",
    "if ch>='A' and ch<='Z':\n",
    "    print('UPPERCASE')\n",
    "elif (ch>='a' and ch<='z'):\n",
    "    print('LOWERCASE')\n",
    "elif ch>=\"0\" and ch<=\"9\":\n",
    "    print('digit')\n",
    "else:\n",
    "    print('symbol')"
   ]
  },
  {
   "cell_type": "code",
   "execution_count": 66,
   "metadata": {},
   "outputs": [
    {
     "name": "stdout",
     "output_type": "stream",
     "text": [
      "BUZZ\n"
     ]
    }
   ],
   "source": [
    "num=int(input())\n",
    "if num%3==0 and num%5==0:\n",
    "    print('FIZZBUZZ')\n",
    "elif num%3==0:\n",
    "    print('FIZZ')\n",
    "elif num%5==0:\n",
    "    print('BUZZ')\n",
    "else:\n",
    "    print(num)"
   ]
  },
  {
   "cell_type": "code",
   "execution_count": null,
   "metadata": {},
   "outputs": [],
   "source": []
  }
 ],
 "metadata": {
  "kernelspec": {
   "display_name": "Python 3",
   "language": "python",
   "name": "python3"
  },
  "language_info": {
   "codemirror_mode": {
    "name": "ipython",
    "version": 3
   },
   "file_extension": ".py",
   "mimetype": "text/x-python",
   "name": "python",
   "nbconvert_exporter": "python",
   "pygments_lexer": "ipython3",
   "version": "3.12.2"
  }
 },
 "nbformat": 4,
 "nbformat_minor": 2
}
